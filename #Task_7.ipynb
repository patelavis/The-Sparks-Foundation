{
 "cells": [
  {
   "cell_type": "markdown",
   "id": "65324b19",
   "metadata": {},
   "source": [
    "# Task_7: Stock Market Prediction using Numerical and Textual Analysis"
   ]
  },
  {
   "cell_type": "markdown",
   "id": "1336b20f",
   "metadata": {},
   "source": [
    "## Numerical Analysis"
   ]
  },
  {
   "cell_type": "markdown",
   "id": "0d115607",
   "metadata": {},
   "source": [
    "### Import libraries"
   ]
  },
  {
   "cell_type": "code",
   "execution_count": 1,
   "id": "f19704a5",
   "metadata": {
    "ExecuteTime": {
     "end_time": "2021-08-07T11:29:03.012383Z",
     "start_time": "2021-08-07T11:29:01.250951Z"
    }
   },
   "outputs": [],
   "source": [
    "import numpy as np\n",
    "import pandas as pd\n",
    "import matplotlib.pyplot as plt\n",
    "import seaborn as sns\n",
    "import yfinance"
   ]
  },
  {
   "cell_type": "markdown",
   "id": "fb9c9e4e",
   "metadata": {},
   "source": [
    "### Download BSESN dataset from yahoo finance"
   ]
  },
  {
   "cell_type": "code",
   "execution_count": 31,
   "id": "57a2e8d4",
   "metadata": {
    "ExecuteTime": {
     "end_time": "2021-08-07T16:22:12.457916Z",
     "start_time": "2021-08-07T16:22:11.672850Z"
    },
    "scrolled": false
   },
   "outputs": [
    {
     "name": "stdout",
     "output_type": "stream",
     "text": [
      "[*********************100%***********************]  1 of 1 completed\n"
     ]
    },
    {
     "data": {
      "text/html": [
       "<div>\n",
       "<style scoped>\n",
       "    .dataframe tbody tr th:only-of-type {\n",
       "        vertical-align: middle;\n",
       "    }\n",
       "\n",
       "    .dataframe tbody tr th {\n",
       "        vertical-align: top;\n",
       "    }\n",
       "\n",
       "    .dataframe thead th {\n",
       "        text-align: right;\n",
       "    }\n",
       "</style>\n",
       "<table border=\"1\" class=\"dataframe\">\n",
       "  <thead>\n",
       "    <tr style=\"text-align: right;\">\n",
       "      <th></th>\n",
       "      <th>Open</th>\n",
       "      <th>High</th>\n",
       "      <th>Low</th>\n",
       "      <th>Close</th>\n",
       "      <th>Adj Close</th>\n",
       "      <th>Volume</th>\n",
       "    </tr>\n",
       "    <tr>\n",
       "      <th>Date</th>\n",
       "      <th></th>\n",
       "      <th></th>\n",
       "      <th></th>\n",
       "      <th></th>\n",
       "      <th></th>\n",
       "      <th></th>\n",
       "    </tr>\n",
       "  </thead>\n",
       "  <tbody>\n",
       "    <tr>\n",
       "      <th>2001-01-02</th>\n",
       "      <td>3953.219971</td>\n",
       "      <td>4028.570068</td>\n",
       "      <td>3929.370117</td>\n",
       "      <td>4018.879883</td>\n",
       "      <td>4018.879883</td>\n",
       "      <td>0</td>\n",
       "    </tr>\n",
       "    <tr>\n",
       "      <th>2001-01-03</th>\n",
       "      <td>3977.580078</td>\n",
       "      <td>4067.659912</td>\n",
       "      <td>3977.580078</td>\n",
       "      <td>4060.020020</td>\n",
       "      <td>4060.020020</td>\n",
       "      <td>0</td>\n",
       "    </tr>\n",
       "    <tr>\n",
       "      <th>2001-01-04</th>\n",
       "      <td>4180.970215</td>\n",
       "      <td>4180.970215</td>\n",
       "      <td>4109.549805</td>\n",
       "      <td>4115.370117</td>\n",
       "      <td>4115.370117</td>\n",
       "      <td>0</td>\n",
       "    </tr>\n",
       "    <tr>\n",
       "      <th>2001-01-05</th>\n",
       "      <td>4116.339844</td>\n",
       "      <td>4195.009766</td>\n",
       "      <td>4115.350098</td>\n",
       "      <td>4183.729980</td>\n",
       "      <td>4183.729980</td>\n",
       "      <td>0</td>\n",
       "    </tr>\n",
       "    <tr>\n",
       "      <th>2001-01-08</th>\n",
       "      <td>4164.759766</td>\n",
       "      <td>4206.720215</td>\n",
       "      <td>4101.529785</td>\n",
       "      <td>4120.430176</td>\n",
       "      <td>4120.430176</td>\n",
       "      <td>0</td>\n",
       "    </tr>\n",
       "    <tr>\n",
       "      <th>...</th>\n",
       "      <td>...</td>\n",
       "      <td>...</td>\n",
       "      <td>...</td>\n",
       "      <td>...</td>\n",
       "      <td>...</td>\n",
       "      <td>...</td>\n",
       "    </tr>\n",
       "    <tr>\n",
       "      <th>2020-12-23</th>\n",
       "      <td>46072.300781</td>\n",
       "      <td>46513.320312</td>\n",
       "      <td>45899.101562</td>\n",
       "      <td>46444.179688</td>\n",
       "      <td>46444.179688</td>\n",
       "      <td>10500</td>\n",
       "    </tr>\n",
       "    <tr>\n",
       "      <th>2020-12-24</th>\n",
       "      <td>46743.488281</td>\n",
       "      <td>47053.398438</td>\n",
       "      <td>46539.019531</td>\n",
       "      <td>46973.539062</td>\n",
       "      <td>46973.539062</td>\n",
       "      <td>13700</td>\n",
       "    </tr>\n",
       "    <tr>\n",
       "      <th>2020-12-28</th>\n",
       "      <td>47153.589844</td>\n",
       "      <td>47406.718750</td>\n",
       "      <td>47148.238281</td>\n",
       "      <td>47353.750000</td>\n",
       "      <td>47353.750000</td>\n",
       "      <td>9600</td>\n",
       "    </tr>\n",
       "    <tr>\n",
       "      <th>2020-12-29</th>\n",
       "      <td>47466.621094</td>\n",
       "      <td>47714.550781</td>\n",
       "      <td>47361.898438</td>\n",
       "      <td>47613.078125</td>\n",
       "      <td>47613.078125</td>\n",
       "      <td>12800</td>\n",
       "    </tr>\n",
       "    <tr>\n",
       "      <th>2020-12-30</th>\n",
       "      <td>47789.031250</td>\n",
       "      <td>47807.851562</td>\n",
       "      <td>47358.359375</td>\n",
       "      <td>47746.218750</td>\n",
       "      <td>47746.218750</td>\n",
       "      <td>15600</td>\n",
       "    </tr>\n",
       "  </tbody>\n",
       "</table>\n",
       "<p>4921 rows × 6 columns</p>\n",
       "</div>"
      ],
      "text/plain": [
       "                    Open          High           Low         Close  \\\n",
       "Date                                                                 \n",
       "2001-01-02   3953.219971   4028.570068   3929.370117   4018.879883   \n",
       "2001-01-03   3977.580078   4067.659912   3977.580078   4060.020020   \n",
       "2001-01-04   4180.970215   4180.970215   4109.549805   4115.370117   \n",
       "2001-01-05   4116.339844   4195.009766   4115.350098   4183.729980   \n",
       "2001-01-08   4164.759766   4206.720215   4101.529785   4120.430176   \n",
       "...                  ...           ...           ...           ...   \n",
       "2020-12-23  46072.300781  46513.320312  45899.101562  46444.179688   \n",
       "2020-12-24  46743.488281  47053.398438  46539.019531  46973.539062   \n",
       "2020-12-28  47153.589844  47406.718750  47148.238281  47353.750000   \n",
       "2020-12-29  47466.621094  47714.550781  47361.898438  47613.078125   \n",
       "2020-12-30  47789.031250  47807.851562  47358.359375  47746.218750   \n",
       "\n",
       "               Adj Close  Volume  \n",
       "Date                              \n",
       "2001-01-02   4018.879883       0  \n",
       "2001-01-03   4060.020020       0  \n",
       "2001-01-04   4115.370117       0  \n",
       "2001-01-05   4183.729980       0  \n",
       "2001-01-08   4120.430176       0  \n",
       "...                  ...     ...  \n",
       "2020-12-23  46444.179688   10500  \n",
       "2020-12-24  46973.539062   13700  \n",
       "2020-12-28  47353.750000    9600  \n",
       "2020-12-29  47613.078125   12800  \n",
       "2020-12-30  47746.218750   15600  \n",
       "\n",
       "[4921 rows x 6 columns]"
      ]
     },
     "execution_count": 31,
     "metadata": {},
     "output_type": "execute_result"
    }
   ],
   "source": [
    "df_finance = yfinance.download('^BSESN', start='2001-01-02', end='2020-12-31')\n",
    "df_finance"
   ]
  },
  {
   "cell_type": "code",
   "execution_count": 32,
   "id": "6e3d71c4",
   "metadata": {
    "ExecuteTime": {
     "end_time": "2021-08-07T16:22:15.317901Z",
     "start_time": "2021-08-07T16:22:15.287947Z"
    }
   },
   "outputs": [
    {
     "data": {
      "text/html": [
       "<div>\n",
       "<style scoped>\n",
       "    .dataframe tbody tr th:only-of-type {\n",
       "        vertical-align: middle;\n",
       "    }\n",
       "\n",
       "    .dataframe tbody tr th {\n",
       "        vertical-align: top;\n",
       "    }\n",
       "\n",
       "    .dataframe thead th {\n",
       "        text-align: right;\n",
       "    }\n",
       "</style>\n",
       "<table border=\"1\" class=\"dataframe\">\n",
       "  <thead>\n",
       "    <tr style=\"text-align: right;\">\n",
       "      <th></th>\n",
       "      <th>Date</th>\n",
       "      <th>Open</th>\n",
       "      <th>High</th>\n",
       "      <th>Low</th>\n",
       "      <th>Close</th>\n",
       "      <th>Adj Close</th>\n",
       "      <th>Volume</th>\n",
       "    </tr>\n",
       "  </thead>\n",
       "  <tbody>\n",
       "    <tr>\n",
       "      <th>0</th>\n",
       "      <td>2001-01-02</td>\n",
       "      <td>3953.219971</td>\n",
       "      <td>4028.570068</td>\n",
       "      <td>3929.370117</td>\n",
       "      <td>4018.879883</td>\n",
       "      <td>4018.879883</td>\n",
       "      <td>0</td>\n",
       "    </tr>\n",
       "    <tr>\n",
       "      <th>1</th>\n",
       "      <td>2001-01-03</td>\n",
       "      <td>3977.580078</td>\n",
       "      <td>4067.659912</td>\n",
       "      <td>3977.580078</td>\n",
       "      <td>4060.020020</td>\n",
       "      <td>4060.020020</td>\n",
       "      <td>0</td>\n",
       "    </tr>\n",
       "    <tr>\n",
       "      <th>2</th>\n",
       "      <td>2001-01-04</td>\n",
       "      <td>4180.970215</td>\n",
       "      <td>4180.970215</td>\n",
       "      <td>4109.549805</td>\n",
       "      <td>4115.370117</td>\n",
       "      <td>4115.370117</td>\n",
       "      <td>0</td>\n",
       "    </tr>\n",
       "    <tr>\n",
       "      <th>3</th>\n",
       "      <td>2001-01-05</td>\n",
       "      <td>4116.339844</td>\n",
       "      <td>4195.009766</td>\n",
       "      <td>4115.350098</td>\n",
       "      <td>4183.729980</td>\n",
       "      <td>4183.729980</td>\n",
       "      <td>0</td>\n",
       "    </tr>\n",
       "    <tr>\n",
       "      <th>4</th>\n",
       "      <td>2001-01-08</td>\n",
       "      <td>4164.759766</td>\n",
       "      <td>4206.720215</td>\n",
       "      <td>4101.529785</td>\n",
       "      <td>4120.430176</td>\n",
       "      <td>4120.430176</td>\n",
       "      <td>0</td>\n",
       "    </tr>\n",
       "    <tr>\n",
       "      <th>...</th>\n",
       "      <td>...</td>\n",
       "      <td>...</td>\n",
       "      <td>...</td>\n",
       "      <td>...</td>\n",
       "      <td>...</td>\n",
       "      <td>...</td>\n",
       "      <td>...</td>\n",
       "    </tr>\n",
       "    <tr>\n",
       "      <th>4916</th>\n",
       "      <td>2020-12-23</td>\n",
       "      <td>46072.300781</td>\n",
       "      <td>46513.320312</td>\n",
       "      <td>45899.101562</td>\n",
       "      <td>46444.179688</td>\n",
       "      <td>46444.179688</td>\n",
       "      <td>10500</td>\n",
       "    </tr>\n",
       "    <tr>\n",
       "      <th>4917</th>\n",
       "      <td>2020-12-24</td>\n",
       "      <td>46743.488281</td>\n",
       "      <td>47053.398438</td>\n",
       "      <td>46539.019531</td>\n",
       "      <td>46973.539062</td>\n",
       "      <td>46973.539062</td>\n",
       "      <td>13700</td>\n",
       "    </tr>\n",
       "    <tr>\n",
       "      <th>4918</th>\n",
       "      <td>2020-12-28</td>\n",
       "      <td>47153.589844</td>\n",
       "      <td>47406.718750</td>\n",
       "      <td>47148.238281</td>\n",
       "      <td>47353.750000</td>\n",
       "      <td>47353.750000</td>\n",
       "      <td>9600</td>\n",
       "    </tr>\n",
       "    <tr>\n",
       "      <th>4919</th>\n",
       "      <td>2020-12-29</td>\n",
       "      <td>47466.621094</td>\n",
       "      <td>47714.550781</td>\n",
       "      <td>47361.898438</td>\n",
       "      <td>47613.078125</td>\n",
       "      <td>47613.078125</td>\n",
       "      <td>12800</td>\n",
       "    </tr>\n",
       "    <tr>\n",
       "      <th>4920</th>\n",
       "      <td>2020-12-30</td>\n",
       "      <td>47789.031250</td>\n",
       "      <td>47807.851562</td>\n",
       "      <td>47358.359375</td>\n",
       "      <td>47746.218750</td>\n",
       "      <td>47746.218750</td>\n",
       "      <td>15600</td>\n",
       "    </tr>\n",
       "  </tbody>\n",
       "</table>\n",
       "<p>4921 rows × 7 columns</p>\n",
       "</div>"
      ],
      "text/plain": [
       "           Date          Open          High           Low         Close  \\\n",
       "0    2001-01-02   3953.219971   4028.570068   3929.370117   4018.879883   \n",
       "1    2001-01-03   3977.580078   4067.659912   3977.580078   4060.020020   \n",
       "2    2001-01-04   4180.970215   4180.970215   4109.549805   4115.370117   \n",
       "3    2001-01-05   4116.339844   4195.009766   4115.350098   4183.729980   \n",
       "4    2001-01-08   4164.759766   4206.720215   4101.529785   4120.430176   \n",
       "...         ...           ...           ...           ...           ...   \n",
       "4916 2020-12-23  46072.300781  46513.320312  45899.101562  46444.179688   \n",
       "4917 2020-12-24  46743.488281  47053.398438  46539.019531  46973.539062   \n",
       "4918 2020-12-28  47153.589844  47406.718750  47148.238281  47353.750000   \n",
       "4919 2020-12-29  47466.621094  47714.550781  47361.898438  47613.078125   \n",
       "4920 2020-12-30  47789.031250  47807.851562  47358.359375  47746.218750   \n",
       "\n",
       "         Adj Close  Volume  \n",
       "0      4018.879883       0  \n",
       "1      4060.020020       0  \n",
       "2      4115.370117       0  \n",
       "3      4183.729980       0  \n",
       "4      4120.430176       0  \n",
       "...            ...     ...  \n",
       "4916  46444.179688   10500  \n",
       "4917  46973.539062   13700  \n",
       "4918  47353.750000    9600  \n",
       "4919  47613.078125   12800  \n",
       "4920  47746.218750   15600  \n",
       "\n",
       "[4921 rows x 7 columns]"
      ]
     },
     "execution_count": 32,
     "metadata": {},
     "output_type": "execute_result"
    }
   ],
   "source": [
    "df_finance.reset_index(inplace=True)\n",
    "df_finance"
   ]
  },
  {
   "cell_type": "markdown",
   "id": "3914b26a",
   "metadata": {},
   "source": [
    "### Check summary of a DataFrame"
   ]
  },
  {
   "cell_type": "code",
   "execution_count": 33,
   "id": "eb89a0c4",
   "metadata": {
    "ExecuteTime": {
     "end_time": "2021-08-07T16:22:37.958160Z",
     "start_time": "2021-08-07T16:22:37.920218Z"
    }
   },
   "outputs": [
    {
     "name": "stdout",
     "output_type": "stream",
     "text": [
      "<class 'pandas.core.frame.DataFrame'>\n",
      "RangeIndex: 4921 entries, 0 to 4920\n",
      "Data columns (total 7 columns):\n",
      " #   Column     Non-Null Count  Dtype         \n",
      "---  ------     --------------  -----         \n",
      " 0   Date       4921 non-null   datetime64[ns]\n",
      " 1   Open       4921 non-null   float64       \n",
      " 2   High       4921 non-null   float64       \n",
      " 3   Low        4921 non-null   float64       \n",
      " 4   Close      4921 non-null   float64       \n",
      " 5   Adj Close  4921 non-null   float64       \n",
      " 6   Volume     4921 non-null   int64         \n",
      "dtypes: datetime64[ns](1), float64(5), int64(1)\n",
      "memory usage: 269.2 KB\n"
     ]
    }
   ],
   "source": [
    "df_finance.info()"
   ]
  },
  {
   "cell_type": "code",
   "execution_count": 35,
   "id": "4d69f03c",
   "metadata": {
    "ExecuteTime": {
     "end_time": "2021-08-07T16:23:25.943813Z",
     "start_time": "2021-08-07T16:23:25.919880Z"
    }
   },
   "outputs": [
    {
     "data": {
      "text/plain": [
       "Date         0\n",
       "Open         0\n",
       "High         0\n",
       "Low          0\n",
       "Close        0\n",
       "Adj Close    0\n",
       "Volume       0\n",
       "dtype: int64"
      ]
     },
     "execution_count": 35,
     "metadata": {},
     "output_type": "execute_result"
    }
   ],
   "source": [
    "df_finance.isna().sum()"
   ]
  },
  {
   "cell_type": "markdown",
   "id": "74926de9",
   "metadata": {},
   "source": [
    "### Data Visualization"
   ]
  },
  {
   "cell_type": "code",
   "execution_count": 39,
   "id": "ac1150d6",
   "metadata": {
    "ExecuteTime": {
     "end_time": "2021-08-07T16:34:43.666430Z",
     "start_time": "2021-08-07T16:34:43.495789Z"
    }
   },
   "outputs": [
    {
     "data": {
      "text/plain": [
       "Text(0, 0.5, 'Close')"
      ]
     },
     "execution_count": 39,
     "metadata": {},
     "output_type": "execute_result"
    },
    {
     "data": {
      "image/png": "[encoded data removed]",
      "text/plain": [
       "<Figure size 1080x432 with 1 Axes>"
      ]
     },
     "metadata": {
      "needs_background": "light"
     },
     "output_type": "display_data"
    }
   ],
   "source": [
    "plt.figure(figsize=(15, 6))\n",
    "df_finance['Close'].plot()\n",
    "plt.ylabel('Close')"
   ]
  },
  {
   "cell_type": "code",
   "execution_count": 40,
   "id": "2fc41647",
   "metadata": {
    "ExecuteTime": {
     "end_time": "2021-08-07T16:34:52.413355Z",
     "start_time": "2021-08-07T16:34:52.176958Z"
    }
   },
   "outputs": [
    {
     "data": {
      "text/plain": [
       "<matplotlib.legend.Legend at 0x18788793460>"
      ]
     },
     "execution_count": 40,
     "metadata": {},
     "output_type": "execute_result"
    },
    {
     "data": {
      "image/png": "[encoded data removed]",
      "text/plain": [
       "<Figure size 1080x432 with 1 Axes>"
      ]
     },
     "metadata": {
      "needs_background": "light"
     },
     "output_type": "display_data"
    }
   ],
   "source": [
    "# Plotting moving average\n",
    "plt.figure(figsize=(15, 6))\n",
    "df_finance['Close'].plot(color = 'b', label = 'Close')\n",
    "df_finance['Close'].rolling(window = 50).mean().plot(color = 'r', label = 'Rolling Mean')\n",
    "df_finance['Close'].rolling(window = 50).std().plot(color = 'g', label = 'Rolling Standard Deviation')\n",
    "plt.legend()"
   ]
  },
  {
   "cell_type": "code",
   "execution_count": 41,
   "id": "43aef3cc",
   "metadata": {
    "ExecuteTime": {
     "end_time": "2021-08-07T16:35:01.622282Z",
     "start_time": "2021-08-07T16:35:01.281467Z"
    }
   },
   "outputs": [
    {
     "data": {
      "text/plain": [
       "Text(0.5, 1.0, 'Returns')"
      ]
     },
     "execution_count": 41,
     "metadata": {},
     "output_type": "execute_result"
    },
    {
     "data": {
      "image/png": "[encoded data removed]",
      "text/plain": [
       "<Figure size 1080x432 with 1 Axes>"
      ]
     },
     "metadata": {
      "needs_background": "light"
     },
     "output_type": "display_data"
    }
   ],
   "source": [
    "#Plotting returns\n",
    "returns = df_finance['Close'] / df_finance['Close'].shift(1) - 1\n",
    "\n",
    "plt.figure(figsize = (15, 6))\n",
    "returns.plot(label='Return')\n",
    "plt.title(\"Returns\")"
   ]
  },
  {
   "cell_type": "code",
   "execution_count": 59,
   "id": "378afd8b",
   "metadata": {
    "ExecuteTime": {
     "end_time": "2021-08-07T16:57:33.592618Z",
     "start_time": "2021-08-07T16:57:33.578653Z"
    }
   },
   "outputs": [],
   "source": [
    "# Stationarity test\n",
    "from statsmodels.tsa.stattools import adfuller, acf, pacf\n",
    "\n",
    "def test_stationarity(timeseries):\n",
    "\n",
    "    #Determing rolling statistics\n",
    "    rolmean = timeseries.rolling(20).mean()\n",
    "    rolstd = timeseries.rolling(20).std()\n",
    "\n",
    "    #Plot rolling statistics:\n",
    "    plt.figure(figsize = (15, 6))\n",
    "    plt.plot(timeseries, color = 'y', label = 'original')\n",
    "    plt.plot(rolmean, color = 'r', label = 'rolling mean')\n",
    "    plt.plot(rolstd, color = 'b', label = 'rolling std')\n",
    "    plt.xlabel('Date')\n",
    "    plt.legend()\n",
    "    plt.title('Rolling Mean and Standard Deviation',  fontsize = 20)\n",
    "    plt.show(block = False)\n",
    "\n",
    "    print('Results of dickey fuller test')\n",
    "    result = adfuller(timeseries, autolag = 'AIC')\n",
    "    labels = ['ADF Test Statistic','p-value','#Lags Used','Number of Observations Used']\n",
    "    for value,label in zip(result, labels):\n",
    "        print(label+' : '+str(value) )\n",
    "    if result[1] <= 0.05:\n",
    "        print(\"Strong evidence against the null hypothesis(Ho), reject the null hypothesis. Data is stationary\")\n",
    "    else:\n",
    "        print(\"Weak evidence against null hypothesis, time series is non-stationary \")"
   ]
  },
  {
   "cell_type": "code",
   "execution_count": 54,
   "id": "0beb967f",
   "metadata": {
    "ExecuteTime": {
     "end_time": "2021-08-07T16:50:58.465706Z",
     "start_time": "2021-08-07T16:50:58.456691Z"
    }
   },
   "outputs": [],
   "source": [
    "# Spliting dataset into train and test\n",
    "training_size = int(len(df_1) * 0.8)\n",
    "test_size = len(df_1) - training_size\n",
    "train_data, test_data = df_finance[:training_size], df_finance[training_size:]"
   ]
  },
  {
   "cell_type": "code",
   "execution_count": 60,
   "id": "0de83fdf",
   "metadata": {
    "ExecuteTime": {
     "end_time": "2021-08-07T16:57:37.141093Z",
     "start_time": "2021-08-07T16:57:36.704309Z"
    }
   },
   "outputs": [
    {
     "data": {
      "image/png": "[encoded data removed]",
      "text/plain": [
       "<Figure size 1080x432 with 1 Axes>"
      ]
     },
     "metadata": {
      "needs_background": "light"
     },
     "output_type": "display_data"
    },
    {
     "name": "stdout",
     "output_type": "stream",
     "text": [
      "Results of dickey fuller test\n",
      "ADF Test Statistic : -0.6084862376036583\n",
      "p-value : 0.8690529318546363\n",
      "#Lags Used : 5\n",
      "Number of Observations Used : 3930\n",
      "Weak evidence against null hypothesis, time series is non-stationary \n"
     ]
    }
   ],
   "source": [
    "test_stationarity(train_data['Close'])"
   ]
  },
  {
   "cell_type": "code",
   "execution_count": 61,
   "id": "e787b4d8",
   "metadata": {
    "ExecuteTime": {
     "end_time": "2021-08-07T17:00:26.551226Z",
     "start_time": "2021-08-07T17:00:26.377679Z"
    }
   },
   "outputs": [
    {
     "data": {
      "image/png": "[encoded data removed]",
      "text/plain": [
       "<Figure size 1080x432 with 1 Axes>"
      ]
     },
     "metadata": {
      "needs_background": "light"
     },
     "output_type": "display_data"
    }
   ],
   "source": [
    "plt.figure(figsize = (15, 6))\n",
    "plt.plot(np.log(train_data['Close'])) \n",
    "plt.plot(np.log(train_data['Close']).rolling(24).mean());"
   ]
  },
  {
   "cell_type": "markdown",
   "id": "09d10cba",
   "metadata": {},
   "source": [
    "### Transform data into `0` to `1`"
   ]
  },
  {
   "cell_type": "code",
   "execution_count": 62,
   "id": "82787af3",
   "metadata": {
    "ExecuteTime": {
     "end_time": "2021-08-07T17:02:17.490706Z",
     "start_time": "2021-08-07T17:02:17.481768Z"
    }
   },
   "outputs": [],
   "source": [
    "from sklearn.preprocessing import MinMaxScaler\n",
    "scaler = MinMaxScaler(feature_range=(0, 1))\n",
    "df_1 = scaler.fit_transform(np.array(df_finance['Close']).reshape(-1, 1))"
   ]
  },
  {
   "cell_type": "markdown",
   "id": "651a13a4",
   "metadata": {},
   "source": [
    "### Split data into train and test dataset"
   ]
  },
  {
   "cell_type": "code",
   "execution_count": 63,
   "id": "88258b84",
   "metadata": {
    "ExecuteTime": {
     "end_time": "2021-08-07T17:02:22.651988Z",
     "start_time": "2021-08-07T17:02:22.642014Z"
    }
   },
   "outputs": [],
   "source": [
    "# Spliting dataset into train and test\n",
    "training_size = int(len(df_1) * 0.8)\n",
    "test_size = len(df_1) - training_size\n",
    "train_data, test_data = df_1[:training_size, :], df_1[training_size:, :]"
   ]
  },
  {
   "cell_type": "code",
   "execution_count": 64,
   "id": "b9bec492",
   "metadata": {
    "ExecuteTime": {
     "end_time": "2021-08-07T17:02:28.886659Z",
     "start_time": "2021-08-07T17:02:28.872696Z"
    }
   },
   "outputs": [
    {
     "data": {
      "text/plain": [
       "(3936, 985)"
      ]
     },
     "execution_count": 64,
     "metadata": {},
     "output_type": "execute_result"
    }
   ],
   "source": [
    "len(train_data), len(test_data)"
   ]
  },
  {
   "cell_type": "code",
   "execution_count": 65,
   "id": "0c6f2761",
   "metadata": {
    "ExecuteTime": {
     "end_time": "2021-08-07T17:02:30.219235Z",
     "start_time": "2021-08-07T17:02:30.204082Z"
    }
   },
   "outputs": [
    {
     "data": {
      "text/plain": [
       "(3936, 985)"
      ]
     },
     "execution_count": 65,
     "metadata": {},
     "output_type": "execute_result"
    }
   ],
   "source": [
    "training_size, test_size"
   ]
  },
  {
   "cell_type": "markdown",
   "id": "66dd04e7",
   "metadata": {},
   "source": [
    "### Data pre-processing for time series analysis"
   ]
  },
  {
   "cell_type": "code",
   "execution_count": 66,
   "id": "eb1ff740",
   "metadata": {
    "ExecuteTime": {
     "end_time": "2021-08-07T17:02:39.463570Z",
     "start_time": "2021-08-07T17:02:39.455624Z"
    }
   },
   "outputs": [],
   "source": [
    "def create_dataset(dataset, time_step=1):\n",
    "    dataX, dataY = [], []\n",
    "    for i in range(len(dataset)-time_step-1):\n",
    "        a = dataset[i:(i+time_step), 0]\n",
    "        dataX.append(a)\n",
    "        dataY.append(dataset[i + time_step, 0])\n",
    "    return np.array(dataX), np.array(dataY)"
   ]
  },
  {
   "cell_type": "code",
   "execution_count": 73,
   "id": "b9f5508e",
   "metadata": {
    "ExecuteTime": {
     "end_time": "2021-08-07T17:03:34.096477Z",
     "start_time": "2021-08-07T17:03:34.077526Z"
    }
   },
   "outputs": [
    {
     "data": {
      "text/plain": [
       "((3835, 100), (884, 100), (3835,), (884,))"
      ]
     },
     "execution_count": 73,
     "metadata": {},
     "output_type": "execute_result"
    }
   ],
   "source": [
    "x_train, y_train = create_dataset(train_data, 100)\n",
    "x_test, y_test = create_dataset(test_data, 100)\n",
    "\n",
    "x_train.shape, x_test.shape, y_train.shape, y_test.shape"
   ]
  },
  {
   "cell_type": "code",
   "execution_count": 74,
   "id": "71e8cbfe",
   "metadata": {
    "ExecuteTime": {
     "end_time": "2021-08-07T17:03:44.394824Z",
     "start_time": "2021-08-07T17:03:44.375838Z"
    }
   },
   "outputs": [
    {
     "data": {
      "text/plain": [
       "array([[0.03142597, 0.03233723, 0.03356325, ..., 0.02399055, 0.02347246,\n",
       "        0.024809  ],\n",
       "       [0.03233723, 0.03356325, 0.03507745, ..., 0.02347246, 0.024809  ,\n",
       "        0.02529454],\n",
       "       [0.03356325, 0.03507745, 0.03367534, ..., 0.024809  , 0.02529454,\n",
       "        0.02352185],\n",
       "       ...,\n",
       "       [0.56315409, 0.56723615, 0.56376387, ..., 0.52513641, 0.52368336,\n",
       "        0.51786268],\n",
       "       [0.56723615, 0.56376387, 0.56268426, ..., 0.52368336, 0.51786268,\n",
       "        0.51921605],\n",
       "       [0.56376387, 0.56268426, 0.56221006, ..., 0.51786268, 0.51921605,\n",
       "        0.51404175]])"
      ]
     },
     "execution_count": 74,
     "metadata": {},
     "output_type": "execute_result"
    }
   ],
   "source": [
    "x_train"
   ]
  },
  {
   "cell_type": "code",
   "execution_count": 75,
   "id": "2ce180a0",
   "metadata": {
    "ExecuteTime": {
     "end_time": "2021-08-07T17:03:51.840079Z",
     "start_time": "2021-08-07T17:03:51.819134Z"
    }
   },
   "outputs": [
    {
     "data": {
      "text/plain": [
       "((3835, 100, 1), (884, 100, 1))"
      ]
     },
     "execution_count": 75,
     "metadata": {},
     "output_type": "execute_result"
    }
   ],
   "source": [
    "# reshaoe input to be [samples, time_steps, features] which is required for LSTM\n",
    "x_train = x_train.reshape(x_train.shape[0], x_train.shape[1], 1)\n",
    "x_test = x_test.reshape(x_test.shape[0], x_test.shape[1], 1)\n",
    "\n",
    "x_train.shape, x_test.shape"
   ]
  },
  {
   "cell_type": "markdown",
   "id": "e95768c5",
   "metadata": {},
   "source": [
    "### Create and run model"
   ]
  },
  {
   "cell_type": "code",
   "execution_count": 70,
   "id": "8f5c003b",
   "metadata": {
    "ExecuteTime": {
     "end_time": "2021-08-07T17:02:58.797221Z",
     "start_time": "2021-08-07T17:02:49.695395Z"
    }
   },
   "outputs": [],
   "source": [
    "import tensorflow as tf"
   ]
  },
  {
   "cell_type": "code",
   "execution_count": 76,
   "id": "6314db50",
   "metadata": {
    "ExecuteTime": {
     "end_time": "2021-08-07T17:04:08.424430Z",
     "start_time": "2021-08-07T17:04:07.161100Z"
    }
   },
   "outputs": [],
   "source": [
    "# Create model\n",
    "model_0 = tf.keras.Sequential([\n",
    "    tf.keras.layers.LSTM(50, return_sequences=True, input_shape=(100, 1)),\n",
    "    tf.keras.layers.LSTM(50, return_sequences=True),\n",
    "    tf.keras.layers.LSTM(50),\n",
    "    tf.keras.layers.Dense(1)\n",
    "])\n",
    "\n",
    "# Compile the model\n",
    "model_0.compile(loss=tf.keras.losses.mean_squared_error,\n",
    "                optimizer=tf.keras.optimizers.Adam(),\n",
    "                metrics=['mae'])"
   ]
  },
  {
   "cell_type": "code",
   "execution_count": 77,
   "id": "2e2499da",
   "metadata": {
    "ExecuteTime": {
     "end_time": "2021-08-07T17:04:10.114856Z",
     "start_time": "2021-08-07T17:04:10.095908Z"
    }
   },
   "outputs": [
    {
     "name": "stdout",
     "output_type": "stream",
     "text": [
      "Model: \"sequential_1\"\n",
      "_________________________________________________________________\n",
      "Layer (type)                 Output Shape              Param #   \n",
      "=================================================================\n",
      "lstm_3 (LSTM)                (None, 100, 50)           10400     \n",
      "_________________________________________________________________\n",
      "lstm_4 (LSTM)                (None, 100, 50)           20200     \n",
      "_________________________________________________________________\n",
      "lstm_5 (LSTM)                (None, 50)                20200     \n",
      "_________________________________________________________________\n",
      "dense_1 (Dense)              (None, 1)                 51        \n",
      "=================================================================\n",
      "Total params: 50,851\n",
      "Trainable params: 50,851\n",
      "Non-trainable params: 0\n",
      "_________________________________________________________________\n"
     ]
    }
   ],
   "source": [
    "model_0.summary()"
   ]
  },
  {
   "cell_type": "code",
   "execution_count": 78,
   "id": "90185d8e",
   "metadata": {
    "ExecuteTime": {
     "end_time": "2021-08-07T17:11:55.371031Z",
     "start_time": "2021-08-07T17:04:23.608728Z"
    }
   },
   "outputs": [
    {
     "name": "stdout",
     "output_type": "stream",
     "text": [
      "Epoch 1/100\n",
      "120/120 [==============================] - 16s 50ms/step - loss: 0.0041 - mae: 0.0318 - val_loss: 0.0015 - val_mae: 0.0302\n",
      "Epoch 2/100\n",
      "120/120 [==============================] - 4s 37ms/step - loss: 1.7966e-04 - mae: 0.0097 - val_loss: 0.0015 - val_mae: 0.0302\n",
      "Epoch 3/100\n",
      "120/120 [==============================] - 4s 36ms/step - loss: 1.6908e-04 - mae: 0.0094 - val_loss: 9.7626e-04 - val_mae: 0.0218\n",
      "Epoch 4/100\n",
      "120/120 [==============================] - 4s 36ms/step - loss: 1.6126e-04 - mae: 0.0092 - val_loss: 0.0017 - val_mae: 0.0352\n",
      "Epoch 5/100\n",
      "120/120 [==============================] - 4s 36ms/step - loss: 1.5561e-04 - mae: 0.0090 - val_loss: 8.3972e-04 - val_mae: 0.0209\n",
      "Epoch 6/100\n",
      "120/120 [==============================] - 4s 37ms/step - loss: 1.7309e-04 - mae: 0.0095 - val_loss: 0.0013 - val_mae: 0.0302\n",
      "Epoch 7/100\n",
      "120/120 [==============================] - 4s 37ms/step - loss: 1.4884e-04 - mae: 0.0088 - val_loss: 9.0509e-04 - val_mae: 0.0234\n",
      "Epoch 8/100\n",
      "120/120 [==============================] - 4s 37ms/step - loss: 1.3300e-04 - mae: 0.0083 - val_loss: 7.0120e-04 - val_mae: 0.0197\n",
      "Epoch 9/100\n",
      "120/120 [==============================] - 4s 37ms/step - loss: 1.2873e-04 - mae: 0.0082 - val_loss: 5.1663e-04 - val_mae: 0.0143\n",
      "Epoch 10/100\n",
      "120/120 [==============================] - 4s 37ms/step - loss: 1.2380e-04 - mae: 0.0080 - val_loss: 5.2598e-04 - val_mae: 0.0163\n",
      "Epoch 11/100\n",
      "120/120 [==============================] - 5s 38ms/step - loss: 1.1888e-04 - mae: 0.0079 - val_loss: 7.1354e-04 - val_mae: 0.0212\n",
      "Epoch 12/100\n",
      "120/120 [==============================] - 4s 37ms/step - loss: 1.1309e-04 - mae: 0.0077 - val_loss: 4.0601e-04 - val_mae: 0.0131\n",
      "Epoch 13/100\n",
      "120/120 [==============================] - 4s 36ms/step - loss: 1.3950e-04 - mae: 0.0085 - val_loss: 4.0452e-04 - val_mae: 0.0139\n",
      "Epoch 14/100\n",
      "120/120 [==============================] - 4s 36ms/step - loss: 1.0457e-04 - mae: 0.0073 - val_loss: 3.5973e-04 - val_mae: 0.0125\n",
      "Epoch 15/100\n",
      "120/120 [==============================] - 4s 36ms/step - loss: 1.1125e-04 - mae: 0.0075 - val_loss: 3.3920e-04 - val_mae: 0.0121\n",
      "Epoch 16/100\n",
      "120/120 [==============================] - 5s 37ms/step - loss: 1.0527e-04 - mae: 0.0073 - val_loss: 4.2360e-04 - val_mae: 0.0156\n",
      "Epoch 17/100\n",
      "120/120 [==============================] - 4s 36ms/step - loss: 9.6006e-05 - mae: 0.0070 - val_loss: 7.9203e-04 - val_mae: 0.0244\n",
      "Epoch 18/100\n",
      "120/120 [==============================] - 4s 36ms/step - loss: 8.9769e-05 - mae: 0.0069 - val_loss: 4.3725e-04 - val_mae: 0.0164\n",
      "Epoch 19/100\n",
      "120/120 [==============================] - 4s 36ms/step - loss: 8.3765e-05 - mae: 0.0065 - val_loss: 2.7300e-04 - val_mae: 0.0114\n",
      "Epoch 20/100\n",
      "120/120 [==============================] - 4s 36ms/step - loss: 9.0020e-05 - mae: 0.0068 - val_loss: 4.1645e-04 - val_mae: 0.0163\n",
      "Epoch 21/100\n",
      "120/120 [==============================] - 4s 36ms/step - loss: 9.2192e-05 - mae: 0.0069 - val_loss: 2.8538e-04 - val_mae: 0.0114\n",
      "Epoch 22/100\n",
      "120/120 [==============================] - 4s 36ms/step - loss: 9.2649e-05 - mae: 0.0069 - val_loss: 3.1662e-04 - val_mae: 0.0125\n",
      "Epoch 23/100\n",
      "120/120 [==============================] - 4s 36ms/step - loss: 9.0578e-05 - mae: 0.0068 - val_loss: 2.7440e-04 - val_mae: 0.0124\n",
      "Epoch 24/100\n",
      "120/120 [==============================] - 4s 36ms/step - loss: 7.3627e-05 - mae: 0.0061 - val_loss: 2.8205e-04 - val_mae: 0.0129\n",
      "Epoch 25/100\n",
      "120/120 [==============================] - 4s 36ms/step - loss: 7.0615e-05 - mae: 0.0060 - val_loss: 2.9348e-04 - val_mae: 0.0134\n",
      "Epoch 26/100\n",
      "120/120 [==============================] - 4s 36ms/step - loss: 6.8520e-05 - mae: 0.0060 - val_loss: 2.6748e-04 - val_mae: 0.0116\n",
      "Epoch 27/100\n",
      "120/120 [==============================] - 5s 38ms/step - loss: 8.6818e-05 - mae: 0.0068 - val_loss: 2.2370e-04 - val_mae: 0.0111\n",
      "Epoch 28/100\n",
      "120/120 [==============================] - 5s 38ms/step - loss: 6.3381e-05 - mae: 0.0057 - val_loss: 1.9137e-04 - val_mae: 0.0093\n",
      "Epoch 29/100\n",
      "120/120 [==============================] - 5s 38ms/step - loss: 7.0028e-05 - mae: 0.0060 - val_loss: 2.7218e-04 - val_mae: 0.0131\n",
      "Epoch 30/100\n",
      "120/120 [==============================] - 5s 39ms/step - loss: 7.1300e-05 - mae: 0.0061 - val_loss: 1.6270e-04 - val_mae: 0.0087\n",
      "Epoch 31/100\n",
      "120/120 [==============================] - 4s 37ms/step - loss: 6.3324e-05 - mae: 0.0058 - val_loss: 4.5257e-04 - val_mae: 0.0187\n",
      "Epoch 32/100\n",
      "120/120 [==============================] - 4s 36ms/step - loss: 5.9631e-05 - mae: 0.0055 - val_loss: 3.6936e-04 - val_mae: 0.0166\n",
      "Epoch 33/100\n",
      "120/120 [==============================] - 4s 36ms/step - loss: 5.3027e-05 - mae: 0.0052 - val_loss: 1.3876e-04 - val_mae: 0.0079\n",
      "Epoch 34/100\n",
      "120/120 [==============================] - 5s 38ms/step - loss: 5.0570e-05 - mae: 0.0051 - val_loss: 1.4349e-04 - val_mae: 0.0085\n",
      "Epoch 35/100\n",
      "120/120 [==============================] - 5s 38ms/step - loss: 5.3333e-05 - mae: 0.0052 - val_loss: 1.7131e-04 - val_mae: 0.0093\n",
      "Epoch 36/100\n",
      "120/120 [==============================] - 4s 37ms/step - loss: 4.7708e-05 - mae: 0.0049 - val_loss: 1.2139e-04 - val_mae: 0.0075\n",
      "Epoch 37/100\n",
      "120/120 [==============================] - 4s 36ms/step - loss: 4.6095e-05 - mae: 0.0049 - val_loss: 1.5128e-04 - val_mae: 0.0087\n",
      "Epoch 38/100\n",
      "120/120 [==============================] - 4s 36ms/step - loss: 4.6489e-05 - mae: 0.0048 - val_loss: 1.5335e-04 - val_mae: 0.0093\n",
      "Epoch 39/100\n",
      "120/120 [==============================] - 4s 37ms/step - loss: 4.3501e-05 - mae: 0.0048 - val_loss: 2.3031e-04 - val_mae: 0.0125\n",
      "Epoch 40/100\n",
      "120/120 [==============================] - 4s 36ms/step - loss: 4.4371e-05 - mae: 0.0048 - val_loss: 1.2987e-04 - val_mae: 0.0081\n",
      "Epoch 41/100\n",
      "120/120 [==============================] - 4s 36ms/step - loss: 3.8795e-05 - mae: 0.0044 - val_loss: 1.1204e-04 - val_mae: 0.0071\n",
      "Epoch 42/100\n",
      "120/120 [==============================] - 4s 36ms/step - loss: 3.4475e-05 - mae: 0.0042 - val_loss: 2.2547e-04 - val_mae: 0.0124\n",
      "Epoch 43/100\n",
      "120/120 [==============================] - 4s 37ms/step - loss: 3.8895e-05 - mae: 0.0045 - val_loss: 5.1913e-04 - val_mae: 0.0208\n",
      "Epoch 44/100\n",
      "120/120 [==============================] - 4s 36ms/step - loss: 3.9265e-05 - mae: 0.0045 - val_loss: 1.5338e-04 - val_mae: 0.0092\n",
      "Epoch 45/100\n",
      "120/120 [==============================] - 4s 36ms/step - loss: 3.6113e-05 - mae: 0.0043 - val_loss: 1.1984e-04 - val_mae: 0.0074\n",
      "Epoch 46/100\n",
      "120/120 [==============================] - 4s 36ms/step - loss: 3.5310e-05 - mae: 0.0043 - val_loss: 1.1465e-04 - val_mae: 0.0069\n",
      "Epoch 47/100\n",
      "120/120 [==============================] - 4s 36ms/step - loss: 3.0662e-05 - mae: 0.0040 - val_loss: 1.1854e-04 - val_mae: 0.0070\n",
      "Epoch 48/100\n",
      "120/120 [==============================] - 4s 36ms/step - loss: 3.7182e-05 - mae: 0.0044 - val_loss: 3.0046e-04 - val_mae: 0.0145\n",
      "Epoch 49/100\n",
      "120/120 [==============================] - 4s 36ms/step - loss: 3.2107e-05 - mae: 0.0041 - val_loss: 2.6111e-04 - val_mae: 0.0129\n",
      "Epoch 50/100\n",
      "120/120 [==============================] - 4s 37ms/step - loss: 2.9422e-05 - mae: 0.0039 - val_loss: 1.4043e-04 - val_mae: 0.0077\n",
      "Epoch 51/100\n",
      "120/120 [==============================] - 5s 42ms/step - loss: 3.1791e-05 - mae: 0.0040 - val_loss: 1.8085e-04 - val_mae: 0.0095\n",
      "Epoch 52/100\n",
      "120/120 [==============================] - 5s 38ms/step - loss: 2.8019e-05 - mae: 0.0038 - val_loss: 1.9027e-04 - val_mae: 0.0099\n",
      "Epoch 53/100\n",
      "120/120 [==============================] - 4s 36ms/step - loss: 2.9860e-05 - mae: 0.0039 - val_loss: 4.1578e-04 - val_mae: 0.0174\n",
      "Epoch 54/100\n",
      "120/120 [==============================] - 4s 37ms/step - loss: 3.0005e-05 - mae: 0.0039 - val_loss: 1.6049e-04 - val_mae: 0.0082\n",
      "Epoch 55/100\n",
      "120/120 [==============================] - 4s 37ms/step - loss: 3.5984e-05 - mae: 0.0044 - val_loss: 1.6052e-04 - val_mae: 0.0082\n",
      "Epoch 56/100\n",
      "120/120 [==============================] - 4s 36ms/step - loss: 3.7032e-05 - mae: 0.0044 - val_loss: 1.6260e-04 - val_mae: 0.0082\n",
      "Epoch 57/100\n",
      "120/120 [==============================] - 4s 36ms/step - loss: 2.9181e-05 - mae: 0.0039 - val_loss: 2.6377e-04 - val_mae: 0.0124\n",
      "Epoch 58/100\n"
     ]
    },
    {
     "name": "stdout",
     "output_type": "stream",
     "text": [
      "120/120 [==============================] - 4s 37ms/step - loss: 2.6607e-05 - mae: 0.0037 - val_loss: 2.6839e-04 - val_mae: 0.0125\n",
      "Epoch 59/100\n",
      "120/120 [==============================] - 4s 36ms/step - loss: 3.7517e-05 - mae: 0.0044 - val_loss: 2.7881e-04 - val_mae: 0.0130\n",
      "Epoch 60/100\n",
      "120/120 [==============================] - 4s 36ms/step - loss: 2.7233e-05 - mae: 0.0037 - val_loss: 1.9578e-04 - val_mae: 0.0096\n",
      "Epoch 61/100\n",
      "120/120 [==============================] - 4s 37ms/step - loss: 2.9241e-05 - mae: 0.0039 - val_loss: 4.8522e-04 - val_mae: 0.0192\n",
      "Epoch 62/100\n",
      "120/120 [==============================] - 4s 36ms/step - loss: 3.0507e-05 - mae: 0.0040 - val_loss: 1.5573e-04 - val_mae: 0.0081\n",
      "Epoch 63/100\n",
      "120/120 [==============================] - 4s 36ms/step - loss: 2.9013e-05 - mae: 0.0039 - val_loss: 1.9726e-04 - val_mae: 0.0098\n",
      "Epoch 64/100\n",
      "120/120 [==============================] - 4s 36ms/step - loss: 3.3581e-05 - mae: 0.0042 - val_loss: 3.2900e-04 - val_mae: 0.0147\n",
      "Epoch 65/100\n",
      "120/120 [==============================] - 4s 36ms/step - loss: 2.9738e-05 - mae: 0.0039 - val_loss: 1.7549e-04 - val_mae: 0.0089\n",
      "Epoch 66/100\n",
      "120/120 [==============================] - 4s 36ms/step - loss: 2.8383e-05 - mae: 0.0038 - val_loss: 3.5290e-04 - val_mae: 0.0155\n",
      "Epoch 67/100\n",
      "120/120 [==============================] - 4s 36ms/step - loss: 2.7469e-05 - mae: 0.0037 - val_loss: 1.4969e-04 - val_mae: 0.0079\n",
      "Epoch 68/100\n",
      "120/120 [==============================] - 4s 35ms/step - loss: 3.3606e-05 - mae: 0.0042 - val_loss: 1.6331e-04 - val_mae: 0.0085\n",
      "Epoch 69/100\n",
      "120/120 [==============================] - 4s 36ms/step - loss: 4.3891e-05 - mae: 0.0047 - val_loss: 1.8148e-04 - val_mae: 0.0091\n",
      "Epoch 70/100\n",
      "120/120 [==============================] - 5s 41ms/step - loss: 2.9187e-05 - mae: 0.0039 - val_loss: 2.7818e-04 - val_mae: 0.0131\n",
      "Epoch 71/100\n",
      "120/120 [==============================] - 4s 36ms/step - loss: 2.9992e-05 - mae: 0.0039 - val_loss: 1.4812e-04 - val_mae: 0.0079\n",
      "Epoch 72/100\n",
      "120/120 [==============================] - 4s 36ms/step - loss: 2.4542e-05 - mae: 0.0035 - val_loss: 1.6489e-04 - val_mae: 0.0086\n",
      "Epoch 73/100\n",
      "120/120 [==============================] - 4s 36ms/step - loss: 2.5201e-05 - mae: 0.0036 - val_loss: 2.0363e-04 - val_mae: 0.0103\n",
      "Epoch 74/100\n",
      "120/120 [==============================] - 4s 37ms/step - loss: 2.8618e-05 - mae: 0.0038 - val_loss: 4.8478e-04 - val_mae: 0.0192\n",
      "Epoch 75/100\n",
      "120/120 [==============================] - 4s 37ms/step - loss: 3.4761e-05 - mae: 0.0043 - val_loss: 1.5166e-04 - val_mae: 0.0081\n",
      "Epoch 76/100\n",
      "120/120 [==============================] - 4s 36ms/step - loss: 2.8220e-05 - mae: 0.0038 - val_loss: 1.8966e-04 - val_mae: 0.0098\n",
      "Epoch 77/100\n",
      "120/120 [==============================] - 4s 36ms/step - loss: 3.2081e-05 - mae: 0.0041 - val_loss: 4.1293e-04 - val_mae: 0.0171\n",
      "Epoch 78/100\n",
      "120/120 [==============================] - 4s 37ms/step - loss: 3.3134e-05 - mae: 0.0042 - val_loss: 3.0542e-04 - val_mae: 0.0140\n",
      "Epoch 79/100\n",
      "120/120 [==============================] - 4s 36ms/step - loss: 2.9246e-05 - mae: 0.0039 - val_loss: 3.5783e-04 - val_mae: 0.0155\n",
      "Epoch 80/100\n",
      "120/120 [==============================] - 5s 38ms/step - loss: 2.8981e-05 - mae: 0.0039 - val_loss: 2.8284e-04 - val_mae: 0.0132\n",
      "Epoch 81/100\n",
      "120/120 [==============================] - 4s 36ms/step - loss: 2.8747e-05 - mae: 0.0038 - val_loss: 1.6368e-04 - val_mae: 0.0087\n",
      "Epoch 82/100\n",
      "120/120 [==============================] - 4s 37ms/step - loss: 2.5929e-05 - mae: 0.0036 - val_loss: 1.8547e-04 - val_mae: 0.0096\n",
      "Epoch 83/100\n",
      "120/120 [==============================] - 4s 36ms/step - loss: 2.6113e-05 - mae: 0.0036 - val_loss: 1.6377e-04 - val_mae: 0.0086\n",
      "Epoch 84/100\n",
      "120/120 [==============================] - 4s 37ms/step - loss: 2.9677e-05 - mae: 0.0039 - val_loss: 2.7556e-04 - val_mae: 0.0132\n",
      "Epoch 85/100\n",
      "120/120 [==============================] - 4s 37ms/step - loss: 2.7101e-05 - mae: 0.0037 - val_loss: 2.4613e-04 - val_mae: 0.0120\n",
      "Epoch 86/100\n",
      "120/120 [==============================] - 4s 36ms/step - loss: 2.6732e-05 - mae: 0.0037 - val_loss: 2.0384e-04 - val_mae: 0.0104\n",
      "Epoch 87/100\n",
      "120/120 [==============================] - 4s 36ms/step - loss: 2.7208e-05 - mae: 0.0037 - val_loss: 1.8918e-04 - val_mae: 0.0096\n",
      "Epoch 88/100\n",
      "120/120 [==============================] - 4s 36ms/step - loss: 2.6644e-05 - mae: 0.0036 - val_loss: 3.1837e-04 - val_mae: 0.0144\n",
      "Epoch 89/100\n",
      "120/120 [==============================] - 4s 36ms/step - loss: 2.7823e-05 - mae: 0.0038 - val_loss: 1.9463e-04 - val_mae: 0.0102\n",
      "Epoch 90/100\n",
      "120/120 [==============================] - 4s 37ms/step - loss: 2.9730e-05 - mae: 0.0039 - val_loss: 2.6528e-04 - val_mae: 0.0126\n",
      "Epoch 91/100\n",
      "120/120 [==============================] - 5s 38ms/step - loss: 2.8097e-05 - mae: 0.0038 - val_loss: 2.1445e-04 - val_mae: 0.0108\n",
      "Epoch 92/100\n",
      "120/120 [==============================] - 5s 38ms/step - loss: 2.8251e-05 - mae: 0.0038 - val_loss: 1.9909e-04 - val_mae: 0.0102\n",
      "Epoch 93/100\n",
      "120/120 [==============================] - 4s 36ms/step - loss: 2.8467e-05 - mae: 0.0039 - val_loss: 2.5715e-04 - val_mae: 0.0124\n",
      "Epoch 94/100\n",
      "120/120 [==============================] - 4s 37ms/step - loss: 2.7954e-05 - mae: 0.0038 - val_loss: 3.2386e-04 - val_mae: 0.0148\n",
      "Epoch 95/100\n",
      "120/120 [==============================] - 4s 36ms/step - loss: 2.7682e-05 - mae: 0.0038 - val_loss: 3.2947e-04 - val_mae: 0.0149\n",
      "Epoch 96/100\n",
      "120/120 [==============================] - 4s 36ms/step - loss: 2.9955e-05 - mae: 0.0039 - val_loss: 2.3331e-04 - val_mae: 0.0116\n",
      "Epoch 97/100\n",
      "120/120 [==============================] - 4s 37ms/step - loss: 3.6082e-05 - mae: 0.0044 - val_loss: 7.9884e-04 - val_mae: 0.0259\n",
      "Epoch 98/100\n",
      "120/120 [==============================] - 4s 36ms/step - loss: 3.1182e-05 - mae: 0.0040 - val_loss: 2.7142e-04 - val_mae: 0.0128\n",
      "Epoch 99/100\n",
      "120/120 [==============================] - 4s 37ms/step - loss: 2.4032e-05 - mae: 0.0034 - val_loss: 2.1063e-04 - val_mae: 0.0108\n",
      "Epoch 100/100\n",
      "120/120 [==============================] - 4s 36ms/step - loss: 2.8092e-05 - mae: 0.0038 - val_loss: 3.3722e-04 - val_mae: 0.0151\n"
     ]
    }
   ],
   "source": [
    "history_0 = model_0.fit(x_train, y_train,\n",
    "                        epochs=100,\n",
    "                        validation_data=(x_test, y_test))"
   ]
  },
  {
   "cell_type": "markdown",
   "id": "4fd356d6",
   "metadata": {},
   "source": [
    "### Model evaluate"
   ]
  },
  {
   "cell_type": "code",
   "execution_count": 79,
   "id": "f9e9f6c1",
   "metadata": {
    "ExecuteTime": {
     "end_time": "2021-08-07T17:13:05.450306Z",
     "start_time": "2021-08-07T17:13:04.645974Z"
    }
   },
   "outputs": [
    {
     "name": "stdout",
     "output_type": "stream",
     "text": [
      "28/28 [==============================] - 0s 15ms/step - loss: 3.3722e-04 - mae: 0.0151\n"
     ]
    },
    {
     "data": {
      "text/plain": [
       "[0.00033721968065947294, 0.015071834437549114]"
      ]
     },
     "execution_count": 79,
     "metadata": {},
     "output_type": "execute_result"
    }
   ],
   "source": [
    "model_0.evaluate(x_test, y_test)"
   ]
  },
  {
   "cell_type": "code",
   "execution_count": 80,
   "id": "2cc0286e",
   "metadata": {
    "ExecuteTime": {
     "end_time": "2021-08-07T17:13:12.145462Z",
     "start_time": "2021-08-07T17:13:09.039720Z"
    }
   },
   "outputs": [],
   "source": [
    "# Let's Do the prediction and check performance metrics\n",
    "train_pred = model_0.predict(x_train)\n",
    "test_pred = model_0.predict(x_test)"
   ]
  },
  {
   "cell_type": "code",
   "execution_count": 81,
   "id": "f8da6914",
   "metadata": {
    "ExecuteTime": {
     "end_time": "2021-08-07T17:13:14.201579Z",
     "start_time": "2021-08-07T17:13:14.190608Z"
    }
   },
   "outputs": [],
   "source": [
    "# Transformback to original form\n",
    "train_pred = scaler.inverse_transform(train_pred)\n",
    "test_pred = scaler.inverse_transform(test_pred)"
   ]
  },
  {
   "cell_type": "code",
   "execution_count": 82,
   "id": "b6b7b37f",
   "metadata": {
    "ExecuteTime": {
     "end_time": "2021-08-07T17:13:15.655638Z",
     "start_time": "2021-08-07T17:13:15.642673Z"
    }
   },
   "outputs": [
    {
     "data": {
      "text/plain": [
       "16538.02894389073"
      ]
     },
     "execution_count": 82,
     "metadata": {},
     "output_type": "execute_result"
    }
   ],
   "source": [
    "from sklearn.metrics import mean_squared_error\n",
    "np.sqrt(mean_squared_error(y_train, train_pred))"
   ]
  },
  {
   "cell_type": "code",
   "execution_count": 83,
   "id": "0d69fd24",
   "metadata": {
    "ExecuteTime": {
     "end_time": "2021-08-07T17:13:17.702660Z",
     "start_time": "2021-08-07T17:13:17.692686Z"
    }
   },
   "outputs": [
    {
     "data": {
      "text/plain": [
       "35888.14262370679"
      ]
     },
     "execution_count": 83,
     "metadata": {},
     "output_type": "execute_result"
    }
   ],
   "source": [
    "np.sqrt(mean_squared_error(y_test, test_pred))"
   ]
  },
  {
   "cell_type": "code",
   "execution_count": 91,
   "id": "9d22af1d",
   "metadata": {
    "ExecuteTime": {
     "end_time": "2021-08-07T17:16:38.282302Z",
     "start_time": "2021-08-07T17:16:38.096182Z"
    }
   },
   "outputs": [
    {
     "data": {
      "text/plain": [
       "[<matplotlib.lines.Line2D at 0x1889eb70850>]"
      ]
     },
     "execution_count": 91,
     "metadata": {},
     "output_type": "execute_result"
    },
    {
     "data": {
      "image/png": "[encoded data removed]",
      "text/plain": [
       "<Figure size 1080x432 with 1 Axes>"
      ]
     },
     "metadata": {
      "needs_background": "light"
     },
     "output_type": "display_data"
    }
   ],
   "source": [
    "train_pred_plot = np.empty_like(df_1)\n",
    "train_pred_plot[:, :] = np.nan\n",
    "train_pred_plot[100:len(train_pred)+100, :] = train_pred\n",
    "\n",
    "test_pred_plot = np.empty_like(df_1)\n",
    "test_pred_plot[:, :] = np.nan\n",
    "test_pred_plot[len(train_pred)+(100*2)+1 : len(df_1)-1, :] = test_pred\n",
    "\n",
    "plt.figure(figsize=(15, 6))\n",
    "plt.plot(scaler.inverse_transform(df_1))\n",
    "plt.plot(train_pred_plot, alpha=0.70)\n",
    "plt.plot(test_pred_plot, alpha=0.50)"
   ]
  },
  {
   "cell_type": "markdown",
   "id": "ed168025",
   "metadata": {},
   "source": [
    "## Textual Analysis"
   ]
  },
  {
   "cell_type": "markdown",
   "id": "2da884ba",
   "metadata": {
    "ExecuteTime": {
     "end_time": "2021-08-07T18:01:43.920834Z",
     "start_time": "2021-08-07T18:01:43.901884Z"
    }
   },
   "source": [
    "### Load data"
   ]
  },
  {
   "cell_type": "code",
   "execution_count": 3,
   "id": "da9c5b8b",
   "metadata": {
    "ExecuteTime": {
     "end_time": "2021-08-07T11:29:36.954590Z",
     "start_time": "2021-08-07T11:29:30.391948Z"
    },
    "scrolled": false
   },
   "outputs": [
    {
     "data": {
      "text/html": [
       "<div>\n",
       "<style scoped>\n",
       "    .dataframe tbody tr th:only-of-type {\n",
       "        vertical-align: middle;\n",
       "    }\n",
       "\n",
       "    .dataframe tbody tr th {\n",
       "        vertical-align: top;\n",
       "    }\n",
       "\n",
       "    .dataframe thead th {\n",
       "        text-align: right;\n",
       "    }\n",
       "</style>\n",
       "<table border=\"1\" class=\"dataframe\">\n",
       "  <thead>\n",
       "    <tr style=\"text-align: right;\">\n",
       "      <th></th>\n",
       "      <th>publish_date</th>\n",
       "      <th>headline_category</th>\n",
       "      <th>headline_text</th>\n",
       "    </tr>\n",
       "  </thead>\n",
       "  <tbody>\n",
       "    <tr>\n",
       "      <th>0</th>\n",
       "      <td>20010102</td>\n",
       "      <td>unknown</td>\n",
       "      <td>Status quo will not be disturbed at Ayodhya; s...</td>\n",
       "    </tr>\n",
       "    <tr>\n",
       "      <th>1</th>\n",
       "      <td>20010102</td>\n",
       "      <td>unknown</td>\n",
       "      <td>Fissures in Hurriyat over Pak visit</td>\n",
       "    </tr>\n",
       "    <tr>\n",
       "      <th>2</th>\n",
       "      <td>20010102</td>\n",
       "      <td>unknown</td>\n",
       "      <td>America's unwanted heading for India?</td>\n",
       "    </tr>\n",
       "    <tr>\n",
       "      <th>3</th>\n",
       "      <td>20010102</td>\n",
       "      <td>unknown</td>\n",
       "      <td>For bigwigs; it is destination Goa</td>\n",
       "    </tr>\n",
       "    <tr>\n",
       "      <th>4</th>\n",
       "      <td>20010102</td>\n",
       "      <td>unknown</td>\n",
       "      <td>Extra buses to clear tourist traffic</td>\n",
       "    </tr>\n",
       "    <tr>\n",
       "      <th>...</th>\n",
       "      <td>...</td>\n",
       "      <td>...</td>\n",
       "      <td>...</td>\n",
       "    </tr>\n",
       "    <tr>\n",
       "      <th>3424062</th>\n",
       "      <td>20201231</td>\n",
       "      <td>city.jodhpur</td>\n",
       "      <td>Covid-19: Despite dip in cases; Rajasthan amon...</td>\n",
       "    </tr>\n",
       "    <tr>\n",
       "      <th>3424063</th>\n",
       "      <td>20201231</td>\n",
       "      <td>city.udaipur</td>\n",
       "      <td>Covid-19: Despite dip in cases; Rajasthan amon...</td>\n",
       "    </tr>\n",
       "    <tr>\n",
       "      <th>3424064</th>\n",
       "      <td>20201231</td>\n",
       "      <td>city.ajmer</td>\n",
       "      <td>Covid-19: Despite dip in cases; Rajasthan amon...</td>\n",
       "    </tr>\n",
       "    <tr>\n",
       "      <th>3424065</th>\n",
       "      <td>20201231</td>\n",
       "      <td>removed</td>\n",
       "      <td>Govt extends deadline for use of FASTag till F...</td>\n",
       "    </tr>\n",
       "    <tr>\n",
       "      <th>3424066</th>\n",
       "      <td>20201231</td>\n",
       "      <td>entertainment.bengali.movies.news</td>\n",
       "      <td>Celebs plan to party safely and responsibly on...</td>\n",
       "    </tr>\n",
       "  </tbody>\n",
       "</table>\n",
       "<p>3424067 rows × 3 columns</p>\n",
       "</div>"
      ],
      "text/plain": [
       "         publish_date                  headline_category  \\\n",
       "0            20010102                            unknown   \n",
       "1            20010102                            unknown   \n",
       "2            20010102                            unknown   \n",
       "3            20010102                            unknown   \n",
       "4            20010102                            unknown   \n",
       "...               ...                                ...   \n",
       "3424062      20201231                       city.jodhpur   \n",
       "3424063      20201231                       city.udaipur   \n",
       "3424064      20201231                         city.ajmer   \n",
       "3424065      20201231                            removed   \n",
       "3424066      20201231  entertainment.bengali.movies.news   \n",
       "\n",
       "                                             headline_text  \n",
       "0        Status quo will not be disturbed at Ayodhya; s...  \n",
       "1                      Fissures in Hurriyat over Pak visit  \n",
       "2                    America's unwanted heading for India?  \n",
       "3                       For bigwigs; it is destination Goa  \n",
       "4                     Extra buses to clear tourist traffic  \n",
       "...                                                    ...  \n",
       "3424062  Covid-19: Despite dip in cases; Rajasthan amon...  \n",
       "3424063  Covid-19: Despite dip in cases; Rajasthan amon...  \n",
       "3424064  Covid-19: Despite dip in cases; Rajasthan amon...  \n",
       "3424065  Govt extends deadline for use of FASTag till F...  \n",
       "3424066  Celebs plan to party safely and responsibly on...  \n",
       "\n",
       "[3424067 rows x 3 columns]"
      ]
     },
     "execution_count": 3,
     "metadata": {},
     "output_type": "execute_result"
    }
   ],
   "source": [
    "df_news = pd.read_csv('india-news-headlines.csv')\n",
    "df_news"
   ]
  },
  {
   "cell_type": "code",
   "execution_count": 7,
   "id": "a5db7856",
   "metadata": {
    "ExecuteTime": {
     "end_time": "2021-08-07T11:30:29.502907Z",
     "start_time": "2021-08-07T11:30:29.298274Z"
    }
   },
   "outputs": [
    {
     "data": {
      "text/html": [
       "<div>\n",
       "<style scoped>\n",
       "    .dataframe tbody tr th:only-of-type {\n",
       "        vertical-align: middle;\n",
       "    }\n",
       "\n",
       "    .dataframe tbody tr th {\n",
       "        vertical-align: top;\n",
       "    }\n",
       "\n",
       "    .dataframe thead th {\n",
       "        text-align: right;\n",
       "    }\n",
       "</style>\n",
       "<table border=\"1\" class=\"dataframe\">\n",
       "  <thead>\n",
       "    <tr style=\"text-align: right;\">\n",
       "      <th></th>\n",
       "      <th>publish_date</th>\n",
       "      <th>headline_category</th>\n",
       "      <th>headline_text</th>\n",
       "    </tr>\n",
       "  </thead>\n",
       "  <tbody>\n",
       "    <tr>\n",
       "      <th>0</th>\n",
       "      <td>2001-01-02</td>\n",
       "      <td>unknown</td>\n",
       "      <td>Status quo will not be disturbed at Ayodhya; s...</td>\n",
       "    </tr>\n",
       "    <tr>\n",
       "      <th>1</th>\n",
       "      <td>2001-01-02</td>\n",
       "      <td>unknown</td>\n",
       "      <td>Fissures in Hurriyat over Pak visit</td>\n",
       "    </tr>\n",
       "    <tr>\n",
       "      <th>2</th>\n",
       "      <td>2001-01-02</td>\n",
       "      <td>unknown</td>\n",
       "      <td>America's unwanted heading for India?</td>\n",
       "    </tr>\n",
       "    <tr>\n",
       "      <th>3</th>\n",
       "      <td>2001-01-02</td>\n",
       "      <td>unknown</td>\n",
       "      <td>For bigwigs; it is destination Goa</td>\n",
       "    </tr>\n",
       "    <tr>\n",
       "      <th>4</th>\n",
       "      <td>2001-01-02</td>\n",
       "      <td>unknown</td>\n",
       "      <td>Extra buses to clear tourist traffic</td>\n",
       "    </tr>\n",
       "    <tr>\n",
       "      <th>...</th>\n",
       "      <td>...</td>\n",
       "      <td>...</td>\n",
       "      <td>...</td>\n",
       "    </tr>\n",
       "    <tr>\n",
       "      <th>3424062</th>\n",
       "      <td>2020-12-31</td>\n",
       "      <td>city.jodhpur</td>\n",
       "      <td>Covid-19: Despite dip in cases; Rajasthan amon...</td>\n",
       "    </tr>\n",
       "    <tr>\n",
       "      <th>3424063</th>\n",
       "      <td>2020-12-31</td>\n",
       "      <td>city.udaipur</td>\n",
       "      <td>Covid-19: Despite dip in cases; Rajasthan amon...</td>\n",
       "    </tr>\n",
       "    <tr>\n",
       "      <th>3424064</th>\n",
       "      <td>2020-12-31</td>\n",
       "      <td>city.ajmer</td>\n",
       "      <td>Covid-19: Despite dip in cases; Rajasthan amon...</td>\n",
       "    </tr>\n",
       "    <tr>\n",
       "      <th>3424065</th>\n",
       "      <td>2020-12-31</td>\n",
       "      <td>removed</td>\n",
       "      <td>Govt extends deadline for use of FASTag till F...</td>\n",
       "    </tr>\n",
       "    <tr>\n",
       "      <th>3424066</th>\n",
       "      <td>2020-12-31</td>\n",
       "      <td>entertainment.bengali.movies.news</td>\n",
       "      <td>Celebs plan to party safely and responsibly on...</td>\n",
       "    </tr>\n",
       "  </tbody>\n",
       "</table>\n",
       "<p>3424067 rows × 3 columns</p>\n",
       "</div>"
      ],
      "text/plain": [
       "        publish_date                  headline_category  \\\n",
       "0         2001-01-02                            unknown   \n",
       "1         2001-01-02                            unknown   \n",
       "2         2001-01-02                            unknown   \n",
       "3         2001-01-02                            unknown   \n",
       "4         2001-01-02                            unknown   \n",
       "...              ...                                ...   \n",
       "3424062   2020-12-31                       city.jodhpur   \n",
       "3424063   2020-12-31                       city.udaipur   \n",
       "3424064   2020-12-31                         city.ajmer   \n",
       "3424065   2020-12-31                            removed   \n",
       "3424066   2020-12-31  entertainment.bengali.movies.news   \n",
       "\n",
       "                                             headline_text  \n",
       "0        Status quo will not be disturbed at Ayodhya; s...  \n",
       "1                      Fissures in Hurriyat over Pak visit  \n",
       "2                    America's unwanted heading for India?  \n",
       "3                       For bigwigs; it is destination Goa  \n",
       "4                     Extra buses to clear tourist traffic  \n",
       "...                                                    ...  \n",
       "3424062  Covid-19: Despite dip in cases; Rajasthan amon...  \n",
       "3424063  Covid-19: Despite dip in cases; Rajasthan amon...  \n",
       "3424064  Covid-19: Despite dip in cases; Rajasthan amon...  \n",
       "3424065  Govt extends deadline for use of FASTag till F...  \n",
       "3424066  Celebs plan to party safely and responsibly on...  \n",
       "\n",
       "[3424067 rows x 3 columns]"
      ]
     },
     "execution_count": 7,
     "metadata": {},
     "output_type": "execute_result"
    }
   ],
   "source": [
    "df_news['publish_date'] = pd.to_datetime(df_news['publish_date'],format= '%Y%m%d')\n",
    "df_news"
   ]
  },
  {
   "cell_type": "code",
   "execution_count": 10,
   "id": "9b286f9b",
   "metadata": {
    "ExecuteTime": {
     "end_time": "2021-08-07T11:36:30.424954Z",
     "start_time": "2021-08-07T11:36:30.248427Z"
    }
   },
   "outputs": [],
   "source": [
    "df_news.drop(columns=['headline_category'], inplace=True)"
   ]
  },
  {
   "cell_type": "code",
   "execution_count": 11,
   "id": "4c674eef",
   "metadata": {
    "ExecuteTime": {
     "end_time": "2021-08-07T11:41:09.016417Z",
     "start_time": "2021-08-07T11:37:19.765961Z"
    }
   },
   "outputs": [
    {
     "data": {
      "text/html": [
       "<div>\n",
       "<style scoped>\n",
       "    .dataframe tbody tr th:only-of-type {\n",
       "        vertical-align: middle;\n",
       "    }\n",
       "\n",
       "    .dataframe tbody tr th {\n",
       "        vertical-align: top;\n",
       "    }\n",
       "\n",
       "    .dataframe thead th {\n",
       "        text-align: right;\n",
       "    }\n",
       "</style>\n",
       "<table border=\"1\" class=\"dataframe\">\n",
       "  <thead>\n",
       "    <tr style=\"text-align: right;\">\n",
       "      <th></th>\n",
       "      <th>publish_date</th>\n",
       "      <th>headline_text</th>\n",
       "    </tr>\n",
       "  </thead>\n",
       "  <tbody>\n",
       "    <tr>\n",
       "      <th>0</th>\n",
       "      <td>2001-01-02</td>\n",
       "      <td>Status quo will not be disturbed at Ayodhya; s...</td>\n",
       "    </tr>\n",
       "    <tr>\n",
       "      <th>1</th>\n",
       "      <td>2001-01-03</td>\n",
       "      <td>Powerless north India gropes in the dark Think...</td>\n",
       "    </tr>\n",
       "    <tr>\n",
       "      <th>2</th>\n",
       "      <td>2001-01-04</td>\n",
       "      <td>The string that pulled Stephen Hawking to Indi...</td>\n",
       "    </tr>\n",
       "    <tr>\n",
       "      <th>3</th>\n",
       "      <td>2001-01-05</td>\n",
       "      <td>Light combat craft takes India into club class...</td>\n",
       "    </tr>\n",
       "    <tr>\n",
       "      <th>4</th>\n",
       "      <td>2001-01-06</td>\n",
       "      <td>Light combat craft takes India into club class...</td>\n",
       "    </tr>\n",
       "    <tr>\n",
       "      <th>...</th>\n",
       "      <td>...</td>\n",
       "      <td>...</td>\n",
       "    </tr>\n",
       "    <tr>\n",
       "      <th>7257</th>\n",
       "      <td>2020-12-27</td>\n",
       "      <td>#BigInterview! Dhritiman Chatterjee: Nobody da...</td>\n",
       "    </tr>\n",
       "    <tr>\n",
       "      <th>7258</th>\n",
       "      <td>2020-12-28</td>\n",
       "      <td>Horoscope Today; 28 December 2020: Check astro...</td>\n",
       "    </tr>\n",
       "    <tr>\n",
       "      <th>7259</th>\n",
       "      <td>2020-12-29</td>\n",
       "      <td>Man recovers charred remains of 'thief' from h...</td>\n",
       "    </tr>\n",
       "    <tr>\n",
       "      <th>7260</th>\n",
       "      <td>2020-12-30</td>\n",
       "      <td>Numerology Readings 30 December 2020: Predicti...</td>\n",
       "    </tr>\n",
       "    <tr>\n",
       "      <th>7261</th>\n",
       "      <td>2020-12-31</td>\n",
       "      <td>Horoscope Today; 31 December 2020: Check astro...</td>\n",
       "    </tr>\n",
       "  </tbody>\n",
       "</table>\n",
       "<p>7262 rows × 2 columns</p>\n",
       "</div>"
      ],
      "text/plain": [
       "     publish_date                                      headline_text\n",
       "0      2001-01-02  Status quo will not be disturbed at Ayodhya; s...\n",
       "1      2001-01-03  Powerless north India gropes in the dark Think...\n",
       "2      2001-01-04  The string that pulled Stephen Hawking to Indi...\n",
       "3      2001-01-05  Light combat craft takes India into club class...\n",
       "4      2001-01-06  Light combat craft takes India into club class...\n",
       "...           ...                                                ...\n",
       "7257   2020-12-27  #BigInterview! Dhritiman Chatterjee: Nobody da...\n",
       "7258   2020-12-28  Horoscope Today; 28 December 2020: Check astro...\n",
       "7259   2020-12-29  Man recovers charred remains of 'thief' from h...\n",
       "7260   2020-12-30  Numerology Readings 30 December 2020: Predicti...\n",
       "7261   2020-12-31  Horoscope Today; 31 December 2020: Check astro...\n",
       "\n",
       "[7262 rows x 2 columns]"
      ]
     },
     "execution_count": 11,
     "metadata": {},
     "output_type": "execute_result"
    }
   ],
   "source": [
    "#Grouping the headlines for each day\n",
    "df_news['headline_text'] = df_news.groupby(['publish_date']).transform(lambda x : ' '.join(x)) \n",
    "df_news = df_news.drop_duplicates() \n",
    "df_news.reset_index(inplace = True, drop = True)\n",
    "df_news"
   ]
  },
  {
   "cell_type": "code",
   "execution_count": 13,
   "id": "49d79696",
   "metadata": {
    "ExecuteTime": {
     "end_time": "2021-08-07T11:45:02.533935Z",
     "start_time": "2021-08-07T11:45:02.519974Z"
    }
   },
   "outputs": [
    {
     "data": {
      "text/plain": [
       "0       Status quo will not be disturbed at Ayodhya; s...\n",
       "1       Powerless north India gropes in the dark Think...\n",
       "2       The string that pulled Stephen Hawking to Indi...\n",
       "3       Light combat craft takes India into club class...\n",
       "4       Light combat craft takes India into club class...\n",
       "                              ...                        \n",
       "7257    #BigInterview! Dhritiman Chatterjee: Nobody da...\n",
       "7258    Horoscope Today; 28 December 2020: Check astro...\n",
       "7259    Man recovers charred remains of 'thief' from h...\n",
       "7260    Numerology Readings 30 December 2020: Predicti...\n",
       "7261    Horoscope Today; 31 December 2020: Check astro...\n",
       "Name: headline_text, Length: 7262, dtype: object"
      ]
     },
     "execution_count": 13,
     "metadata": {},
     "output_type": "execute_result"
    }
   ],
   "source": [
    "df_news['headline_text']"
   ]
  },
  {
   "cell_type": "code",
   "execution_count": 15,
   "id": "65d429fe",
   "metadata": {
    "ExecuteTime": {
     "end_time": "2021-08-07T11:53:39.274079Z",
     "start_time": "2021-08-07T11:53:37.367353Z"
    }
   },
   "outputs": [],
   "source": [
    "import re\n",
    "from nltk.corpus import stopwords\n",
    "from nltk.stem import PorterStemmer\n",
    "ps = PorterStemmer()"
   ]
  },
  {
   "cell_type": "markdown",
   "id": "b9f1bc03",
   "metadata": {
    "ExecuteTime": {
     "end_time": "2021-08-07T14:02:13.138900Z",
     "start_time": "2021-08-07T11:54:09.086543Z"
    }
   },
   "source": [
    "### Cleaning headlines"
   ]
  },
  {
   "cell_type": "code",
   "execution_count": 17,
   "id": "74ad33f3",
   "metadata": {
    "ExecuteTime": {
     "end_time": "2021-08-07T14:02:13.138900Z",
     "start_time": "2021-08-07T11:54:09.086543Z"
    }
   },
   "outputs": [],
   "source": [
    "headlines = []\n",
    "for i in range(0,len(df_news['headline_text'])):\n",
    "    news = re.sub('[^a-zA-Z]',' ',df_news['headline_text'][i])\n",
    "    news = news.lower()\n",
    "    news = news.split()\n",
    "    news = [ps.stem(word) for word in news if not word in set(stopwords.words('english'))]\n",
    "    news=' '.join(news)\n",
    "    headlines.append(news)"
   ]
  },
  {
   "cell_type": "code",
   "execution_count": 18,
   "id": "75ae1b21",
   "metadata": {
    "ExecuteTime": {
     "end_time": "2021-08-07T14:02:16.786637Z",
     "start_time": "2021-08-07T14:02:15.742066Z"
    }
   },
   "outputs": [
    {
     "name": "stderr",
     "output_type": "stream",
     "text": [
      "C:\\Users\\home_\\AppData\\Local\\Temp/ipykernel_12652/3932733868.py:1: SettingWithCopyWarning: \n",
      "A value is trying to be set on a copy of a slice from a DataFrame.\n",
      "Try using .loc[row_indexer,col_indexer] = value instead\n",
      "\n",
      "See the caveats in the documentation: https://pandas.pydata.org/pandas-docs/stable/user_guide/indexing.html#returning-a-view-versus-a-copy\n",
      "  df_news['headline_text'] = pd.Series(headlines)\n"
     ]
    },
    {
     "data": {
      "text/html": [
       "<div>\n",
       "<style scoped>\n",
       "    .dataframe tbody tr th:only-of-type {\n",
       "        vertical-align: middle;\n",
       "    }\n",
       "\n",
       "    .dataframe tbody tr th {\n",
       "        vertical-align: top;\n",
       "    }\n",
       "\n",
       "    .dataframe thead th {\n",
       "        text-align: right;\n",
       "    }\n",
       "</style>\n",
       "<table border=\"1\" class=\"dataframe\">\n",
       "  <thead>\n",
       "    <tr style=\"text-align: right;\">\n",
       "      <th></th>\n",
       "      <th>publish_date</th>\n",
       "      <th>headline_text</th>\n",
       "    </tr>\n",
       "  </thead>\n",
       "  <tbody>\n",
       "    <tr>\n",
       "      <th>0</th>\n",
       "      <td>2001-01-02</td>\n",
       "      <td>statu quo disturb ayodhya say vajpaye fissur h...</td>\n",
       "    </tr>\n",
       "    <tr>\n",
       "      <th>1</th>\n",
       "      <td>2001-01-03</td>\n",
       "      <td>powerless north india grope dark think laxman ...</td>\n",
       "    </tr>\n",
       "    <tr>\n",
       "      <th>2</th>\n",
       "      <td>2001-01-04</td>\n",
       "      <td>string pull stephen hawk india vajpaye give bi...</td>\n",
       "    </tr>\n",
       "    <tr>\n",
       "      <th>3</th>\n",
       "      <td>2001-01-05</td>\n",
       "      <td>light combat craft take india club class hawk ...</td>\n",
       "    </tr>\n",
       "    <tr>\n",
       "      <th>4</th>\n",
       "      <td>2001-01-06</td>\n",
       "      <td>light combat craft take india club class hawk ...</td>\n",
       "    </tr>\n",
       "    <tr>\n",
       "      <th>...</th>\n",
       "      <td>...</td>\n",
       "      <td>...</td>\n",
       "    </tr>\n",
       "    <tr>\n",
       "      <th>7257</th>\n",
       "      <td>2020-12-27</td>\n",
       "      <td>biginterview dhritiman chatterje nobodi dare m...</td>\n",
       "    </tr>\n",
       "    <tr>\n",
       "      <th>7258</th>\n",
       "      <td>2020-12-28</td>\n",
       "      <td>horoscop today decemb check astrolog predict a...</td>\n",
       "    </tr>\n",
       "    <tr>\n",
       "      <th>7259</th>\n",
       "      <td>2020-12-29</td>\n",
       "      <td>man recov char remain thief burnt shop dump be...</td>\n",
       "    </tr>\n",
       "    <tr>\n",
       "      <th>7260</th>\n",
       "      <td>2020-12-30</td>\n",
       "      <td>numerolog read decemb predict lucki colour luc...</td>\n",
       "    </tr>\n",
       "    <tr>\n",
       "      <th>7261</th>\n",
       "      <td>2020-12-31</td>\n",
       "      <td>horoscop today decemb check astrolog predict a...</td>\n",
       "    </tr>\n",
       "  </tbody>\n",
       "</table>\n",
       "<p>7262 rows × 2 columns</p>\n",
       "</div>"
      ],
      "text/plain": [
       "     publish_date                                      headline_text\n",
       "0      2001-01-02  statu quo disturb ayodhya say vajpaye fissur h...\n",
       "1      2001-01-03  powerless north india grope dark think laxman ...\n",
       "2      2001-01-04  string pull stephen hawk india vajpaye give bi...\n",
       "3      2001-01-05  light combat craft take india club class hawk ...\n",
       "4      2001-01-06  light combat craft take india club class hawk ...\n",
       "...           ...                                                ...\n",
       "7257   2020-12-27  biginterview dhritiman chatterje nobodi dare m...\n",
       "7258   2020-12-28  horoscop today decemb check astrolog predict a...\n",
       "7259   2020-12-29  man recov char remain thief burnt shop dump be...\n",
       "7260   2020-12-30  numerolog read decemb predict lucki colour luc...\n",
       "7261   2020-12-31  horoscop today decemb check astrolog predict a...\n",
       "\n",
       "[7262 rows x 2 columns]"
      ]
     },
     "execution_count": 18,
     "metadata": {},
     "output_type": "execute_result"
    }
   ],
   "source": [
    "df_news['headline_text'] = pd.Series(headlines)\n",
    "df_news"
   ]
  },
  {
   "cell_type": "markdown",
   "id": "91549591",
   "metadata": {},
   "source": [
    "### Adding subjectivity and polarity columns"
   ]
  },
  {
   "cell_type": "code",
   "execution_count": 19,
   "id": "50980a21",
   "metadata": {
    "ExecuteTime": {
     "end_time": "2021-08-07T14:02:18.170133Z",
     "start_time": "2021-08-07T14:02:18.017899Z"
    }
   },
   "outputs": [],
   "source": [
    "from textblob import TextBlob\n",
    "\n",
    "# Functions to get the subjectivity and polarity\n",
    "def getSubjectivity(text):\n",
    "    return TextBlob(text).sentiment.subjectivity\n",
    "\n",
    "def getPolarity(text):\n",
    "    return  TextBlob(text).sentiment.polarity"
   ]
  },
  {
   "cell_type": "code",
   "execution_count": 20,
   "id": "546d2962",
   "metadata": {
    "ExecuteTime": {
     "end_time": "2021-08-07T14:05:46.105734Z",
     "start_time": "2021-08-07T14:02:19.386916Z"
    }
   },
   "outputs": [
    {
     "name": "stderr",
     "output_type": "stream",
     "text": [
      "C:\\Users\\home_\\AppData\\Local\\Temp/ipykernel_12652/3567203989.py:2: SettingWithCopyWarning: \n",
      "A value is trying to be set on a copy of a slice from a DataFrame.\n",
      "Try using .loc[row_indexer,col_indexer] = value instead\n",
      "\n",
      "See the caveats in the documentation: https://pandas.pydata.org/pandas-docs/stable/user_guide/indexing.html#returning-a-view-versus-a-copy\n",
      "  df_news['subjectivity'] = df_news['headline_text'].apply(getSubjectivity)\n",
      "C:\\Users\\home_\\AppData\\Local\\Temp/ipykernel_12652/3567203989.py:3: SettingWithCopyWarning: \n",
      "A value is trying to be set on a copy of a slice from a DataFrame.\n",
      "Try using .loc[row_indexer,col_indexer] = value instead\n",
      "\n",
      "See the caveats in the documentation: https://pandas.pydata.org/pandas-docs/stable/user_guide/indexing.html#returning-a-view-versus-a-copy\n",
      "  df_news['polarity'] = df_news['headline_text'].apply(getPolarity)\n"
     ]
    },
    {
     "data": {
      "text/html": [
       "<div>\n",
       "<style scoped>\n",
       "    .dataframe tbody tr th:only-of-type {\n",
       "        vertical-align: middle;\n",
       "    }\n",
       "\n",
       "    .dataframe tbody tr th {\n",
       "        vertical-align: top;\n",
       "    }\n",
       "\n",
       "    .dataframe thead th {\n",
       "        text-align: right;\n",
       "    }\n",
       "</style>\n",
       "<table border=\"1\" class=\"dataframe\">\n",
       "  <thead>\n",
       "    <tr style=\"text-align: right;\">\n",
       "      <th></th>\n",
       "      <th>publish_date</th>\n",
       "      <th>headline_text</th>\n",
       "      <th>subjectivity</th>\n",
       "      <th>polarity</th>\n",
       "    </tr>\n",
       "  </thead>\n",
       "  <tbody>\n",
       "    <tr>\n",
       "      <th>0</th>\n",
       "      <td>2001-01-02</td>\n",
       "      <td>statu quo disturb ayodhya say vajpaye fissur h...</td>\n",
       "      <td>0.298148</td>\n",
       "      <td>0.099074</td>\n",
       "    </tr>\n",
       "    <tr>\n",
       "      <th>1</th>\n",
       "      <td>2001-01-03</td>\n",
       "      <td>powerless north india grope dark think laxman ...</td>\n",
       "      <td>0.429167</td>\n",
       "      <td>0.025000</td>\n",
       "    </tr>\n",
       "    <tr>\n",
       "      <th>2</th>\n",
       "      <td>2001-01-04</td>\n",
       "      <td>string pull stephen hawk india vajpaye give bi...</td>\n",
       "      <td>0.475140</td>\n",
       "      <td>0.032481</td>\n",
       "    </tr>\n",
       "    <tr>\n",
       "      <th>3</th>\n",
       "      <td>2001-01-05</td>\n",
       "      <td>light combat craft take india club class hawk ...</td>\n",
       "      <td>0.458412</td>\n",
       "      <td>0.296404</td>\n",
       "    </tr>\n",
       "    <tr>\n",
       "      <th>4</th>\n",
       "      <td>2001-01-06</td>\n",
       "      <td>light combat craft take india club class hawk ...</td>\n",
       "      <td>0.425758</td>\n",
       "      <td>0.389394</td>\n",
       "    </tr>\n",
       "    <tr>\n",
       "      <th>...</th>\n",
       "      <td>...</td>\n",
       "      <td>...</td>\n",
       "      <td>...</td>\n",
       "      <td>...</td>\n",
       "    </tr>\n",
       "    <tr>\n",
       "      <th>7257</th>\n",
       "      <td>2020-12-27</td>\n",
       "      <td>biginterview dhritiman chatterje nobodi dare m...</td>\n",
       "      <td>0.366994</td>\n",
       "      <td>0.058187</td>\n",
       "    </tr>\n",
       "    <tr>\n",
       "      <th>7258</th>\n",
       "      <td>2020-12-28</td>\n",
       "      <td>horoscop today decemb check astrolog predict a...</td>\n",
       "      <td>0.395275</td>\n",
       "      <td>0.085493</td>\n",
       "    </tr>\n",
       "    <tr>\n",
       "      <th>7259</th>\n",
       "      <td>2020-12-29</td>\n",
       "      <td>man recov char remain thief burnt shop dump be...</td>\n",
       "      <td>0.399135</td>\n",
       "      <td>0.068856</td>\n",
       "    </tr>\n",
       "    <tr>\n",
       "      <th>7260</th>\n",
       "      <td>2020-12-30</td>\n",
       "      <td>numerolog read decemb predict lucki colour luc...</td>\n",
       "      <td>0.389012</td>\n",
       "      <td>0.040116</td>\n",
       "    </tr>\n",
       "    <tr>\n",
       "      <th>7261</th>\n",
       "      <td>2020-12-31</td>\n",
       "      <td>horoscop today decemb check astrolog predict a...</td>\n",
       "      <td>0.406992</td>\n",
       "      <td>0.103598</td>\n",
       "    </tr>\n",
       "  </tbody>\n",
       "</table>\n",
       "<p>7262 rows × 4 columns</p>\n",
       "</div>"
      ],
      "text/plain": [
       "     publish_date                                      headline_text  \\\n",
       "0      2001-01-02  statu quo disturb ayodhya say vajpaye fissur h...   \n",
       "1      2001-01-03  powerless north india grope dark think laxman ...   \n",
       "2      2001-01-04  string pull stephen hawk india vajpaye give bi...   \n",
       "3      2001-01-05  light combat craft take india club class hawk ...   \n",
       "4      2001-01-06  light combat craft take india club class hawk ...   \n",
       "...           ...                                                ...   \n",
       "7257   2020-12-27  biginterview dhritiman chatterje nobodi dare m...   \n",
       "7258   2020-12-28  horoscop today decemb check astrolog predict a...   \n",
       "7259   2020-12-29  man recov char remain thief burnt shop dump be...   \n",
       "7260   2020-12-30  numerolog read decemb predict lucki colour luc...   \n",
       "7261   2020-12-31  horoscop today decemb check astrolog predict a...   \n",
       "\n",
       "      subjectivity  polarity  \n",
       "0         0.298148  0.099074  \n",
       "1         0.429167  0.025000  \n",
       "2         0.475140  0.032481  \n",
       "3         0.458412  0.296404  \n",
       "4         0.425758  0.389394  \n",
       "...            ...       ...  \n",
       "7257      0.366994  0.058187  \n",
       "7258      0.395275  0.085493  \n",
       "7259      0.399135  0.068856  \n",
       "7260      0.389012  0.040116  \n",
       "7261      0.406992  0.103598  \n",
       "\n",
       "[7262 rows x 4 columns]"
      ]
     },
     "execution_count": 20,
     "metadata": {},
     "output_type": "execute_result"
    }
   ],
   "source": [
    "df_news['subjectivity'] = df_news['headline_text'].apply(getSubjectivity)\n",
    "df_news['polarity'] = df_news['headline_text'].apply(getPolarity)\n",
    "df_news"
   ]
  },
  {
   "cell_type": "code",
   "execution_count": 21,
   "id": "4f2f8f93",
   "metadata": {
    "ExecuteTime": {
     "end_time": "2021-08-07T14:45:56.701585Z",
     "start_time": "2021-08-07T14:45:56.238244Z"
    }
   },
   "outputs": [
    {
     "data": {
      "text/plain": [
       "<AxesSubplot:>"
      ]
     },
     "execution_count": 21,
     "metadata": {},
     "output_type": "execute_result"
    },
    {
     "data": {
      "image/png": "[encoded data removed]",
      "text/plain": [
       "<Figure size 720x432 with 1 Axes>"
      ]
     },
     "metadata": {
      "needs_background": "light"
     },
     "output_type": "display_data"
    }
   ],
   "source": [
    "plt.figure(figsize = (10,6))\n",
    "df_news['polarity'].hist()"
   ]
  },
  {
   "cell_type": "code",
   "execution_count": 22,
   "id": "b280ba3b",
   "metadata": {
    "ExecuteTime": {
     "end_time": "2021-08-07T14:46:03.664201Z",
     "start_time": "2021-08-07T14:46:03.435817Z"
    }
   },
   "outputs": [
    {
     "data": {
      "text/plain": [
       "<AxesSubplot:>"
      ]
     },
     "execution_count": 22,
     "metadata": {},
     "output_type": "execute_result"
    },
    {
     "data": {
      "image/png": "[encoded data removed]",
      "text/plain": [
       "<Figure size 720x432 with 1 Axes>"
      ]
     },
     "metadata": {
      "needs_background": "light"
     },
     "output_type": "display_data"
    }
   ],
   "source": [
    "plt.figure(figsize = (10,6))\n",
    "df_news['subjectivity'].hist()"
   ]
  },
  {
   "cell_type": "markdown",
   "id": "68f7dfbd",
   "metadata": {},
   "source": [
    "###  Adding sentiment score to df_news"
   ]
  },
  {
   "cell_type": "code",
   "execution_count": 26,
   "id": "f46fa3e7",
   "metadata": {
    "ExecuteTime": {
     "end_time": "2021-08-07T15:28:59.482470Z",
     "start_time": "2021-08-07T14:48:57.833653Z"
    }
   },
   "outputs": [
    {
     "name": "stderr",
     "output_type": "stream",
     "text": [
      "[nltk_data] Downloading package vader_lexicon to\n",
      "[nltk_data]     C:\\Users\\home_\\AppData\\Roaming\\nltk_data...\n",
      "[nltk_data]   Package vader_lexicon is already up-to-date!\n",
      "C:\\Users\\home_\\AppData\\Local\\Temp/ipykernel_12652/1879083984.py:7: SettingWithCopyWarning: \n",
      "A value is trying to be set on a copy of a slice from a DataFrame.\n",
      "Try using .loc[row_indexer,col_indexer] = value instead\n",
      "\n",
      "See the caveats in the documentation: https://pandas.pydata.org/pandas-docs/stable/user_guide/indexing.html#returning-a-view-versus-a-copy\n",
      "  df_news['compound'] = [sia.polarity_scores(v)['compound'] for v in df_news['headline_text']]\n",
      "C:\\Users\\home_\\AppData\\Local\\Temp/ipykernel_12652/1879083984.py:8: SettingWithCopyWarning: \n",
      "A value is trying to be set on a copy of a slice from a DataFrame.\n",
      "Try using .loc[row_indexer,col_indexer] = value instead\n",
      "\n",
      "See the caveats in the documentation: https://pandas.pydata.org/pandas-docs/stable/user_guide/indexing.html#returning-a-view-versus-a-copy\n",
      "  df_news['negative'] = [sia.polarity_scores(v)['neg'] for v in df_news['headline_text']]\n",
      "C:\\Users\\home_\\AppData\\Local\\Temp/ipykernel_12652/1879083984.py:9: SettingWithCopyWarning: \n",
      "A value is trying to be set on a copy of a slice from a DataFrame.\n",
      "Try using .loc[row_indexer,col_indexer] = value instead\n",
      "\n",
      "See the caveats in the documentation: https://pandas.pydata.org/pandas-docs/stable/user_guide/indexing.html#returning-a-view-versus-a-copy\n",
      "  df_news['neutral'] = [sia.polarity_scores(v)['neu'] for v in df_news['headline_text']]\n",
      "C:\\Users\\home_\\AppData\\Local\\Temp/ipykernel_12652/1879083984.py:10: SettingWithCopyWarning: \n",
      "A value is trying to be set on a copy of a slice from a DataFrame.\n",
      "Try using .loc[row_indexer,col_indexer] = value instead\n",
      "\n",
      "See the caveats in the documentation: https://pandas.pydata.org/pandas-docs/stable/user_guide/indexing.html#returning-a-view-versus-a-copy\n",
      "  df_news['positive'] = [sia.polarity_scores(v)['pos'] for v in df_news['headline_text']]\n"
     ]
    },
    {
     "data": {
      "text/html": [
       "<div>\n",
       "<style scoped>\n",
       "    .dataframe tbody tr th:only-of-type {\n",
       "        vertical-align: middle;\n",
       "    }\n",
       "\n",
       "    .dataframe tbody tr th {\n",
       "        vertical-align: top;\n",
       "    }\n",
       "\n",
       "    .dataframe thead th {\n",
       "        text-align: right;\n",
       "    }\n",
       "</style>\n",
       "<table border=\"1\" class=\"dataframe\">\n",
       "  <thead>\n",
       "    <tr style=\"text-align: right;\">\n",
       "      <th></th>\n",
       "      <th>publish_date</th>\n",
       "      <th>headline_text</th>\n",
       "      <th>subjectivity</th>\n",
       "      <th>polarity</th>\n",
       "      <th>compound</th>\n",
       "      <th>negative</th>\n",
       "      <th>neutral</th>\n",
       "      <th>positive</th>\n",
       "    </tr>\n",
       "  </thead>\n",
       "  <tbody>\n",
       "    <tr>\n",
       "      <th>0</th>\n",
       "      <td>2001-01-02</td>\n",
       "      <td>statu quo disturb ayodhya say vajpaye fissur h...</td>\n",
       "      <td>0.298148</td>\n",
       "      <td>0.099074</td>\n",
       "      <td>-0.8555</td>\n",
       "      <td>0.125</td>\n",
       "      <td>0.773</td>\n",
       "      <td>0.102</td>\n",
       "    </tr>\n",
       "    <tr>\n",
       "      <th>1</th>\n",
       "      <td>2001-01-03</td>\n",
       "      <td>powerless north india grope dark think laxman ...</td>\n",
       "      <td>0.429167</td>\n",
       "      <td>0.025000</td>\n",
       "      <td>-0.5994</td>\n",
       "      <td>0.132</td>\n",
       "      <td>0.755</td>\n",
       "      <td>0.113</td>\n",
       "    </tr>\n",
       "    <tr>\n",
       "      <th>2</th>\n",
       "      <td>2001-01-04</td>\n",
       "      <td>string pull stephen hawk india vajpaye give bi...</td>\n",
       "      <td>0.475140</td>\n",
       "      <td>0.032481</td>\n",
       "      <td>0.9169</td>\n",
       "      <td>0.099</td>\n",
       "      <td>0.791</td>\n",
       "      <td>0.110</td>\n",
       "    </tr>\n",
       "    <tr>\n",
       "      <th>3</th>\n",
       "      <td>2001-01-05</td>\n",
       "      <td>light combat craft take india club class hawk ...</td>\n",
       "      <td>0.458412</td>\n",
       "      <td>0.296404</td>\n",
       "      <td>-0.3612</td>\n",
       "      <td>0.171</td>\n",
       "      <td>0.659</td>\n",
       "      <td>0.170</td>\n",
       "    </tr>\n",
       "    <tr>\n",
       "      <th>4</th>\n",
       "      <td>2001-01-06</td>\n",
       "      <td>light combat craft take india club class hawk ...</td>\n",
       "      <td>0.425758</td>\n",
       "      <td>0.389394</td>\n",
       "      <td>-0.7579</td>\n",
       "      <td>0.207</td>\n",
       "      <td>0.649</td>\n",
       "      <td>0.144</td>\n",
       "    </tr>\n",
       "    <tr>\n",
       "      <th>...</th>\n",
       "      <td>...</td>\n",
       "      <td>...</td>\n",
       "      <td>...</td>\n",
       "      <td>...</td>\n",
       "      <td>...</td>\n",
       "      <td>...</td>\n",
       "      <td>...</td>\n",
       "      <td>...</td>\n",
       "    </tr>\n",
       "    <tr>\n",
       "      <th>7257</th>\n",
       "      <td>2020-12-27</td>\n",
       "      <td>biginterview dhritiman chatterje nobodi dare m...</td>\n",
       "      <td>0.366994</td>\n",
       "      <td>0.058187</td>\n",
       "      <td>-0.9998</td>\n",
       "      <td>0.145</td>\n",
       "      <td>0.786</td>\n",
       "      <td>0.068</td>\n",
       "    </tr>\n",
       "    <tr>\n",
       "      <th>7258</th>\n",
       "      <td>2020-12-28</td>\n",
       "      <td>horoscop today decemb check astrolog predict a...</td>\n",
       "      <td>0.395275</td>\n",
       "      <td>0.085493</td>\n",
       "      <td>-0.9996</td>\n",
       "      <td>0.120</td>\n",
       "      <td>0.807</td>\n",
       "      <td>0.074</td>\n",
       "    </tr>\n",
       "    <tr>\n",
       "      <th>7259</th>\n",
       "      <td>2020-12-29</td>\n",
       "      <td>man recov char remain thief burnt shop dump be...</td>\n",
       "      <td>0.399135</td>\n",
       "      <td>0.068856</td>\n",
       "      <td>-0.9998</td>\n",
       "      <td>0.145</td>\n",
       "      <td>0.782</td>\n",
       "      <td>0.073</td>\n",
       "    </tr>\n",
       "    <tr>\n",
       "      <th>7260</th>\n",
       "      <td>2020-12-30</td>\n",
       "      <td>numerolog read decemb predict lucki colour luc...</td>\n",
       "      <td>0.389012</td>\n",
       "      <td>0.040116</td>\n",
       "      <td>-0.9999</td>\n",
       "      <td>0.149</td>\n",
       "      <td>0.782</td>\n",
       "      <td>0.069</td>\n",
       "    </tr>\n",
       "    <tr>\n",
       "      <th>7261</th>\n",
       "      <td>2020-12-31</td>\n",
       "      <td>horoscop today decemb check astrolog predict a...</td>\n",
       "      <td>0.406992</td>\n",
       "      <td>0.103598</td>\n",
       "      <td>-0.9995</td>\n",
       "      <td>0.117</td>\n",
       "      <td>0.810</td>\n",
       "      <td>0.073</td>\n",
       "    </tr>\n",
       "  </tbody>\n",
       "</table>\n",
       "<p>7262 rows × 8 columns</p>\n",
       "</div>"
      ],
      "text/plain": [
       "     publish_date                                      headline_text  \\\n",
       "0      2001-01-02  statu quo disturb ayodhya say vajpaye fissur h...   \n",
       "1      2001-01-03  powerless north india grope dark think laxman ...   \n",
       "2      2001-01-04  string pull stephen hawk india vajpaye give bi...   \n",
       "3      2001-01-05  light combat craft take india club class hawk ...   \n",
       "4      2001-01-06  light combat craft take india club class hawk ...   \n",
       "...           ...                                                ...   \n",
       "7257   2020-12-27  biginterview dhritiman chatterje nobodi dare m...   \n",
       "7258   2020-12-28  horoscop today decemb check astrolog predict a...   \n",
       "7259   2020-12-29  man recov char remain thief burnt shop dump be...   \n",
       "7260   2020-12-30  numerolog read decemb predict lucki colour luc...   \n",
       "7261   2020-12-31  horoscop today decemb check astrolog predict a...   \n",
       "\n",
       "      subjectivity  polarity  compound  negative  neutral  positive  \n",
       "0         0.298148  0.099074   -0.8555     0.125    0.773     0.102  \n",
       "1         0.429167  0.025000   -0.5994     0.132    0.755     0.113  \n",
       "2         0.475140  0.032481    0.9169     0.099    0.791     0.110  \n",
       "3         0.458412  0.296404   -0.3612     0.171    0.659     0.170  \n",
       "4         0.425758  0.389394   -0.7579     0.207    0.649     0.144  \n",
       "...            ...       ...       ...       ...      ...       ...  \n",
       "7257      0.366994  0.058187   -0.9998     0.145    0.786     0.068  \n",
       "7258      0.395275  0.085493   -0.9996     0.120    0.807     0.074  \n",
       "7259      0.399135  0.068856   -0.9998     0.145    0.782     0.073  \n",
       "7260      0.389012  0.040116   -0.9999     0.149    0.782     0.069  \n",
       "7261      0.406992  0.103598   -0.9995     0.117    0.810     0.073  \n",
       "\n",
       "[7262 rows x 8 columns]"
      ]
     },
     "execution_count": 26,
     "metadata": {},
     "output_type": "execute_result"
    }
   ],
   "source": [
    "from nltk.sentiment.vader import SentimentIntensityAnalyzer\n",
    "import nltk\n",
    "nltk.download('vader_lexicon')\n",
    "sia = SentimentIntensityAnalyzer()\n",
    "\n",
    "df_news['compound'] = [sia.polarity_scores(v)['compound'] for v in df_news['headline_text']]\n",
    "df_news['negative'] = [sia.polarity_scores(v)['neg'] for v in df_news['headline_text']]\n",
    "df_news['neutral'] = [sia.polarity_scores(v)['neu'] for v in df_news['headline_text']]\n",
    "df_news['positive'] = [sia.polarity_scores(v)['pos'] for v in df_news['headline_text']]\n",
    "df_news"
   ]
  },
  {
   "cell_type": "code",
   "execution_count": 92,
   "id": "5fc1d35e",
   "metadata": {
    "ExecuteTime": {
     "end_time": "2021-08-07T17:26:23.499628Z",
     "start_time": "2021-08-07T17:26:23.476689Z"
    }
   },
   "outputs": [
    {
     "name": "stderr",
     "output_type": "stream",
     "text": [
      "C:\\Users\\home_\\AppData\\Roaming\\Python\\Python39\\site-packages\\pandas\\core\\frame.py:5034: SettingWithCopyWarning: \n",
      "A value is trying to be set on a copy of a slice from a DataFrame\n",
      "\n",
      "See the caveats in the documentation: https://pandas.pydata.org/pandas-docs/stable/user_guide/indexing.html#returning-a-view-versus-a-copy\n",
      "  return super().rename(\n"
     ]
    }
   ],
   "source": [
    "df_news.rename(columns={'publish_date':'Date'}, inplace=True) "
   ]
  },
  {
   "cell_type": "code",
   "execution_count": 93,
   "id": "0bac50e9",
   "metadata": {
    "ExecuteTime": {
     "end_time": "2021-08-07T17:26:29.336461Z",
     "start_time": "2021-08-07T17:26:29.296603Z"
    }
   },
   "outputs": [
    {
     "data": {
      "text/html": [
       "<div>\n",
       "<style scoped>\n",
       "    .dataframe tbody tr th:only-of-type {\n",
       "        vertical-align: middle;\n",
       "    }\n",
       "\n",
       "    .dataframe tbody tr th {\n",
       "        vertical-align: top;\n",
       "    }\n",
       "\n",
       "    .dataframe thead th {\n",
       "        text-align: right;\n",
       "    }\n",
       "</style>\n",
       "<table border=\"1\" class=\"dataframe\">\n",
       "  <thead>\n",
       "    <tr style=\"text-align: right;\">\n",
       "      <th></th>\n",
       "      <th>Date</th>\n",
       "      <th>headline_text</th>\n",
       "      <th>subjectivity</th>\n",
       "      <th>polarity</th>\n",
       "      <th>compound</th>\n",
       "      <th>negative</th>\n",
       "      <th>neutral</th>\n",
       "      <th>positive</th>\n",
       "    </tr>\n",
       "  </thead>\n",
       "  <tbody>\n",
       "    <tr>\n",
       "      <th>0</th>\n",
       "      <td>2001-01-02</td>\n",
       "      <td>statu quo disturb ayodhya say vajpaye fissur h...</td>\n",
       "      <td>0.298148</td>\n",
       "      <td>0.099074</td>\n",
       "      <td>-0.8555</td>\n",
       "      <td>0.125</td>\n",
       "      <td>0.773</td>\n",
       "      <td>0.102</td>\n",
       "    </tr>\n",
       "    <tr>\n",
       "      <th>1</th>\n",
       "      <td>2001-01-03</td>\n",
       "      <td>powerless north india grope dark think laxman ...</td>\n",
       "      <td>0.429167</td>\n",
       "      <td>0.025000</td>\n",
       "      <td>-0.5994</td>\n",
       "      <td>0.132</td>\n",
       "      <td>0.755</td>\n",
       "      <td>0.113</td>\n",
       "    </tr>\n",
       "    <tr>\n",
       "      <th>2</th>\n",
       "      <td>2001-01-04</td>\n",
       "      <td>string pull stephen hawk india vajpaye give bi...</td>\n",
       "      <td>0.475140</td>\n",
       "      <td>0.032481</td>\n",
       "      <td>0.9169</td>\n",
       "      <td>0.099</td>\n",
       "      <td>0.791</td>\n",
       "      <td>0.110</td>\n",
       "    </tr>\n",
       "    <tr>\n",
       "      <th>3</th>\n",
       "      <td>2001-01-05</td>\n",
       "      <td>light combat craft take india club class hawk ...</td>\n",
       "      <td>0.458412</td>\n",
       "      <td>0.296404</td>\n",
       "      <td>-0.3612</td>\n",
       "      <td>0.171</td>\n",
       "      <td>0.659</td>\n",
       "      <td>0.170</td>\n",
       "    </tr>\n",
       "    <tr>\n",
       "      <th>4</th>\n",
       "      <td>2001-01-06</td>\n",
       "      <td>light combat craft take india club class hawk ...</td>\n",
       "      <td>0.425758</td>\n",
       "      <td>0.389394</td>\n",
       "      <td>-0.7579</td>\n",
       "      <td>0.207</td>\n",
       "      <td>0.649</td>\n",
       "      <td>0.144</td>\n",
       "    </tr>\n",
       "    <tr>\n",
       "      <th>...</th>\n",
       "      <td>...</td>\n",
       "      <td>...</td>\n",
       "      <td>...</td>\n",
       "      <td>...</td>\n",
       "      <td>...</td>\n",
       "      <td>...</td>\n",
       "      <td>...</td>\n",
       "      <td>...</td>\n",
       "    </tr>\n",
       "    <tr>\n",
       "      <th>7257</th>\n",
       "      <td>2020-12-27</td>\n",
       "      <td>biginterview dhritiman chatterje nobodi dare m...</td>\n",
       "      <td>0.366994</td>\n",
       "      <td>0.058187</td>\n",
       "      <td>-0.9998</td>\n",
       "      <td>0.145</td>\n",
       "      <td>0.786</td>\n",
       "      <td>0.068</td>\n",
       "    </tr>\n",
       "    <tr>\n",
       "      <th>7258</th>\n",
       "      <td>2020-12-28</td>\n",
       "      <td>horoscop today decemb check astrolog predict a...</td>\n",
       "      <td>0.395275</td>\n",
       "      <td>0.085493</td>\n",
       "      <td>-0.9996</td>\n",
       "      <td>0.120</td>\n",
       "      <td>0.807</td>\n",
       "      <td>0.074</td>\n",
       "    </tr>\n",
       "    <tr>\n",
       "      <th>7259</th>\n",
       "      <td>2020-12-29</td>\n",
       "      <td>man recov char remain thief burnt shop dump be...</td>\n",
       "      <td>0.399135</td>\n",
       "      <td>0.068856</td>\n",
       "      <td>-0.9998</td>\n",
       "      <td>0.145</td>\n",
       "      <td>0.782</td>\n",
       "      <td>0.073</td>\n",
       "    </tr>\n",
       "    <tr>\n",
       "      <th>7260</th>\n",
       "      <td>2020-12-30</td>\n",
       "      <td>numerolog read decemb predict lucki colour luc...</td>\n",
       "      <td>0.389012</td>\n",
       "      <td>0.040116</td>\n",
       "      <td>-0.9999</td>\n",
       "      <td>0.149</td>\n",
       "      <td>0.782</td>\n",
       "      <td>0.069</td>\n",
       "    </tr>\n",
       "    <tr>\n",
       "      <th>7261</th>\n",
       "      <td>2020-12-31</td>\n",
       "      <td>horoscop today decemb check astrolog predict a...</td>\n",
       "      <td>0.406992</td>\n",
       "      <td>0.103598</td>\n",
       "      <td>-0.9995</td>\n",
       "      <td>0.117</td>\n",
       "      <td>0.810</td>\n",
       "      <td>0.073</td>\n",
       "    </tr>\n",
       "  </tbody>\n",
       "</table>\n",
       "<p>7262 rows × 8 columns</p>\n",
       "</div>"
      ],
      "text/plain": [
       "           Date                                      headline_text  \\\n",
       "0    2001-01-02  statu quo disturb ayodhya say vajpaye fissur h...   \n",
       "1    2001-01-03  powerless north india grope dark think laxman ...   \n",
       "2    2001-01-04  string pull stephen hawk india vajpaye give bi...   \n",
       "3    2001-01-05  light combat craft take india club class hawk ...   \n",
       "4    2001-01-06  light combat craft take india club class hawk ...   \n",
       "...         ...                                                ...   \n",
       "7257 2020-12-27  biginterview dhritiman chatterje nobodi dare m...   \n",
       "7258 2020-12-28  horoscop today decemb check astrolog predict a...   \n",
       "7259 2020-12-29  man recov char remain thief burnt shop dump be...   \n",
       "7260 2020-12-30  numerolog read decemb predict lucki colour luc...   \n",
       "7261 2020-12-31  horoscop today decemb check astrolog predict a...   \n",
       "\n",
       "      subjectivity  polarity  compound  negative  neutral  positive  \n",
       "0         0.298148  0.099074   -0.8555     0.125    0.773     0.102  \n",
       "1         0.429167  0.025000   -0.5994     0.132    0.755     0.113  \n",
       "2         0.475140  0.032481    0.9169     0.099    0.791     0.110  \n",
       "3         0.458412  0.296404   -0.3612     0.171    0.659     0.170  \n",
       "4         0.425758  0.389394   -0.7579     0.207    0.649     0.144  \n",
       "...            ...       ...       ...       ...      ...       ...  \n",
       "7257      0.366994  0.058187   -0.9998     0.145    0.786     0.068  \n",
       "7258      0.395275  0.085493   -0.9996     0.120    0.807     0.074  \n",
       "7259      0.399135  0.068856   -0.9998     0.145    0.782     0.073  \n",
       "7260      0.389012  0.040116   -0.9999     0.149    0.782     0.069  \n",
       "7261      0.406992  0.103598   -0.9995     0.117    0.810     0.073  \n",
       "\n",
       "[7262 rows x 8 columns]"
      ]
     },
     "execution_count": 93,
     "metadata": {},
     "output_type": "execute_result"
    }
   ],
   "source": [
    "df_news"
   ]
  },
  {
   "cell_type": "markdown",
   "id": "5b15e689",
   "metadata": {},
   "source": [
    "### Data merge using inner join by date"
   ]
  },
  {
   "cell_type": "code",
   "execution_count": 94,
   "id": "6d79ccab",
   "metadata": {
    "ExecuteTime": {
     "end_time": "2021-08-07T17:28:01.017713Z",
     "start_time": "2021-08-07T17:28:00.945832Z"
    }
   },
   "outputs": [
    {
     "data": {
      "text/html": [
       "<div>\n",
       "<style scoped>\n",
       "    .dataframe tbody tr th:only-of-type {\n",
       "        vertical-align: middle;\n",
       "    }\n",
       "\n",
       "    .dataframe tbody tr th {\n",
       "        vertical-align: top;\n",
       "    }\n",
       "\n",
       "    .dataframe thead th {\n",
       "        text-align: right;\n",
       "    }\n",
       "</style>\n",
       "<table border=\"1\" class=\"dataframe\">\n",
       "  <thead>\n",
       "    <tr style=\"text-align: right;\">\n",
       "      <th></th>\n",
       "      <th>Date</th>\n",
       "      <th>Open</th>\n",
       "      <th>High</th>\n",
       "      <th>Low</th>\n",
       "      <th>Close</th>\n",
       "      <th>Adj Close</th>\n",
       "      <th>Volume</th>\n",
       "      <th>headline_text</th>\n",
       "      <th>subjectivity</th>\n",
       "      <th>polarity</th>\n",
       "      <th>compound</th>\n",
       "      <th>negative</th>\n",
       "      <th>neutral</th>\n",
       "      <th>positive</th>\n",
       "    </tr>\n",
       "  </thead>\n",
       "  <tbody>\n",
       "    <tr>\n",
       "      <th>0</th>\n",
       "      <td>2001-01-02</td>\n",
       "      <td>3953.219971</td>\n",
       "      <td>4028.570068</td>\n",
       "      <td>3929.370117</td>\n",
       "      <td>4018.879883</td>\n",
       "      <td>4018.879883</td>\n",
       "      <td>0</td>\n",
       "      <td>statu quo disturb ayodhya say vajpaye fissur h...</td>\n",
       "      <td>0.298148</td>\n",
       "      <td>0.099074</td>\n",
       "      <td>-0.8555</td>\n",
       "      <td>0.125</td>\n",
       "      <td>0.773</td>\n",
       "      <td>0.102</td>\n",
       "    </tr>\n",
       "    <tr>\n",
       "      <th>1</th>\n",
       "      <td>2001-01-03</td>\n",
       "      <td>3977.580078</td>\n",
       "      <td>4067.659912</td>\n",
       "      <td>3977.580078</td>\n",
       "      <td>4060.020020</td>\n",
       "      <td>4060.020020</td>\n",
       "      <td>0</td>\n",
       "      <td>powerless north india grope dark think laxman ...</td>\n",
       "      <td>0.429167</td>\n",
       "      <td>0.025000</td>\n",
       "      <td>-0.5994</td>\n",
       "      <td>0.132</td>\n",
       "      <td>0.755</td>\n",
       "      <td>0.113</td>\n",
       "    </tr>\n",
       "    <tr>\n",
       "      <th>2</th>\n",
       "      <td>2001-01-04</td>\n",
       "      <td>4180.970215</td>\n",
       "      <td>4180.970215</td>\n",
       "      <td>4109.549805</td>\n",
       "      <td>4115.370117</td>\n",
       "      <td>4115.370117</td>\n",
       "      <td>0</td>\n",
       "      <td>string pull stephen hawk india vajpaye give bi...</td>\n",
       "      <td>0.475140</td>\n",
       "      <td>0.032481</td>\n",
       "      <td>0.9169</td>\n",
       "      <td>0.099</td>\n",
       "      <td>0.791</td>\n",
       "      <td>0.110</td>\n",
       "    </tr>\n",
       "    <tr>\n",
       "      <th>3</th>\n",
       "      <td>2001-01-05</td>\n",
       "      <td>4116.339844</td>\n",
       "      <td>4195.009766</td>\n",
       "      <td>4115.350098</td>\n",
       "      <td>4183.729980</td>\n",
       "      <td>4183.729980</td>\n",
       "      <td>0</td>\n",
       "      <td>light combat craft take india club class hawk ...</td>\n",
       "      <td>0.458412</td>\n",
       "      <td>0.296404</td>\n",
       "      <td>-0.3612</td>\n",
       "      <td>0.171</td>\n",
       "      <td>0.659</td>\n",
       "      <td>0.170</td>\n",
       "    </tr>\n",
       "    <tr>\n",
       "      <th>4</th>\n",
       "      <td>2001-01-08</td>\n",
       "      <td>4164.759766</td>\n",
       "      <td>4206.720215</td>\n",
       "      <td>4101.529785</td>\n",
       "      <td>4120.430176</td>\n",
       "      <td>4120.430176</td>\n",
       "      <td>0</td>\n",
       "      <td>sangh parivar babri panel ant frontrunn key us...</td>\n",
       "      <td>0.486204</td>\n",
       "      <td>-0.035142</td>\n",
       "      <td>-0.6808</td>\n",
       "      <td>0.100</td>\n",
       "      <td>0.816</td>\n",
       "      <td>0.084</td>\n",
       "    </tr>\n",
       "    <tr>\n",
       "      <th>...</th>\n",
       "      <td>...</td>\n",
       "      <td>...</td>\n",
       "      <td>...</td>\n",
       "      <td>...</td>\n",
       "      <td>...</td>\n",
       "      <td>...</td>\n",
       "      <td>...</td>\n",
       "      <td>...</td>\n",
       "      <td>...</td>\n",
       "      <td>...</td>\n",
       "      <td>...</td>\n",
       "      <td>...</td>\n",
       "      <td>...</td>\n",
       "      <td>...</td>\n",
       "    </tr>\n",
       "    <tr>\n",
       "      <th>4887</th>\n",
       "      <td>2020-12-23</td>\n",
       "      <td>46072.300781</td>\n",
       "      <td>46513.320312</td>\n",
       "      <td>45899.101562</td>\n",
       "      <td>46444.179688</td>\n",
       "      <td>46444.179688</td>\n",
       "      <td>10500</td>\n",
       "      <td>sawmil makarpura gidc gut none hurt civic bodi...</td>\n",
       "      <td>0.368617</td>\n",
       "      <td>0.091200</td>\n",
       "      <td>-0.9999</td>\n",
       "      <td>0.145</td>\n",
       "      <td>0.789</td>\n",
       "      <td>0.066</td>\n",
       "    </tr>\n",
       "    <tr>\n",
       "      <th>4888</th>\n",
       "      <td>2020-12-24</td>\n",
       "      <td>46743.488281</td>\n",
       "      <td>47053.398438</td>\n",
       "      <td>46539.019531</td>\n",
       "      <td>46973.539062</td>\n",
       "      <td>46973.539062</td>\n",
       "      <td>13700</td>\n",
       "      <td>set mood sex cold winter two hous blow gujarat...</td>\n",
       "      <td>0.386303</td>\n",
       "      <td>0.065157</td>\n",
       "      <td>-0.9995</td>\n",
       "      <td>0.116</td>\n",
       "      <td>0.809</td>\n",
       "      <td>0.075</td>\n",
       "    </tr>\n",
       "    <tr>\n",
       "      <th>4889</th>\n",
       "      <td>2020-12-28</td>\n",
       "      <td>47153.589844</td>\n",
       "      <td>47406.718750</td>\n",
       "      <td>47148.238281</td>\n",
       "      <td>47353.750000</td>\n",
       "      <td>47353.750000</td>\n",
       "      <td>9600</td>\n",
       "      <td>horoscop today decemb check astrolog predict a...</td>\n",
       "      <td>0.395275</td>\n",
       "      <td>0.085493</td>\n",
       "      <td>-0.9996</td>\n",
       "      <td>0.120</td>\n",
       "      <td>0.807</td>\n",
       "      <td>0.074</td>\n",
       "    </tr>\n",
       "    <tr>\n",
       "      <th>4890</th>\n",
       "      <td>2020-12-29</td>\n",
       "      <td>47466.621094</td>\n",
       "      <td>47714.550781</td>\n",
       "      <td>47361.898438</td>\n",
       "      <td>47613.078125</td>\n",
       "      <td>47613.078125</td>\n",
       "      <td>12800</td>\n",
       "      <td>man recov char remain thief burnt shop dump be...</td>\n",
       "      <td>0.399135</td>\n",
       "      <td>0.068856</td>\n",
       "      <td>-0.9998</td>\n",
       "      <td>0.145</td>\n",
       "      <td>0.782</td>\n",
       "      <td>0.073</td>\n",
       "    </tr>\n",
       "    <tr>\n",
       "      <th>4891</th>\n",
       "      <td>2020-12-30</td>\n",
       "      <td>47789.031250</td>\n",
       "      <td>47807.851562</td>\n",
       "      <td>47358.359375</td>\n",
       "      <td>47746.218750</td>\n",
       "      <td>47746.218750</td>\n",
       "      <td>15600</td>\n",
       "      <td>numerolog read decemb predict lucki colour luc...</td>\n",
       "      <td>0.389012</td>\n",
       "      <td>0.040116</td>\n",
       "      <td>-0.9999</td>\n",
       "      <td>0.149</td>\n",
       "      <td>0.782</td>\n",
       "      <td>0.069</td>\n",
       "    </tr>\n",
       "  </tbody>\n",
       "</table>\n",
       "<p>4892 rows × 14 columns</p>\n",
       "</div>"
      ],
      "text/plain": [
       "           Date          Open          High           Low         Close  \\\n",
       "0    2001-01-02   3953.219971   4028.570068   3929.370117   4018.879883   \n",
       "1    2001-01-03   3977.580078   4067.659912   3977.580078   4060.020020   \n",
       "2    2001-01-04   4180.970215   4180.970215   4109.549805   4115.370117   \n",
       "3    2001-01-05   4116.339844   4195.009766   4115.350098   4183.729980   \n",
       "4    2001-01-08   4164.759766   4206.720215   4101.529785   4120.430176   \n",
       "...         ...           ...           ...           ...           ...   \n",
       "4887 2020-12-23  46072.300781  46513.320312  45899.101562  46444.179688   \n",
       "4888 2020-12-24  46743.488281  47053.398438  46539.019531  46973.539062   \n",
       "4889 2020-12-28  47153.589844  47406.718750  47148.238281  47353.750000   \n",
       "4890 2020-12-29  47466.621094  47714.550781  47361.898438  47613.078125   \n",
       "4891 2020-12-30  47789.031250  47807.851562  47358.359375  47746.218750   \n",
       "\n",
       "         Adj Close  Volume                                      headline_text  \\\n",
       "0      4018.879883       0  statu quo disturb ayodhya say vajpaye fissur h...   \n",
       "1      4060.020020       0  powerless north india grope dark think laxman ...   \n",
       "2      4115.370117       0  string pull stephen hawk india vajpaye give bi...   \n",
       "3      4183.729980       0  light combat craft take india club class hawk ...   \n",
       "4      4120.430176       0  sangh parivar babri panel ant frontrunn key us...   \n",
       "...            ...     ...                                                ...   \n",
       "4887  46444.179688   10500  sawmil makarpura gidc gut none hurt civic bodi...   \n",
       "4888  46973.539062   13700  set mood sex cold winter two hous blow gujarat...   \n",
       "4889  47353.750000    9600  horoscop today decemb check astrolog predict a...   \n",
       "4890  47613.078125   12800  man recov char remain thief burnt shop dump be...   \n",
       "4891  47746.218750   15600  numerolog read decemb predict lucki colour luc...   \n",
       "\n",
       "      subjectivity  polarity  compound  negative  neutral  positive  \n",
       "0         0.298148  0.099074   -0.8555     0.125    0.773     0.102  \n",
       "1         0.429167  0.025000   -0.5994     0.132    0.755     0.113  \n",
       "2         0.475140  0.032481    0.9169     0.099    0.791     0.110  \n",
       "3         0.458412  0.296404   -0.3612     0.171    0.659     0.170  \n",
       "4         0.486204 -0.035142   -0.6808     0.100    0.816     0.084  \n",
       "...            ...       ...       ...       ...      ...       ...  \n",
       "4887      0.368617  0.091200   -0.9999     0.145    0.789     0.066  \n",
       "4888      0.386303  0.065157   -0.9995     0.116    0.809     0.075  \n",
       "4889      0.395275  0.085493   -0.9996     0.120    0.807     0.074  \n",
       "4890      0.399135  0.068856   -0.9998     0.145    0.782     0.073  \n",
       "4891      0.389012  0.040116   -0.9999     0.149    0.782     0.069  \n",
       "\n",
       "[4892 rows x 14 columns]"
      ]
     },
     "execution_count": 94,
     "metadata": {},
     "output_type": "execute_result"
    }
   ],
   "source": [
    "df_merge = pd.merge(df_finance, df_news, how='inner', on='Date')\n",
    "df_merge"
   ]
  },
  {
   "cell_type": "markdown",
   "id": "5a062705",
   "metadata": {},
   "source": [
    "### Data preparation"
   ]
  },
  {
   "cell_type": "code",
   "execution_count": 95,
   "id": "e5675d62",
   "metadata": {
    "ExecuteTime": {
     "end_time": "2021-08-07T17:30:17.214145Z",
     "start_time": "2021-08-07T17:30:17.203174Z"
    }
   },
   "outputs": [
    {
     "data": {
      "text/plain": [
       "Index(['Date', 'Open', 'High', 'Low', 'Close', 'Adj Close', 'Volume',\n",
       "       'headline_text', 'subjectivity', 'polarity', 'compound', 'negative',\n",
       "       'neutral', 'positive'],\n",
       "      dtype='object')"
      ]
     },
     "execution_count": 95,
     "metadata": {},
     "output_type": "execute_result"
    }
   ],
   "source": [
    "df_merge.columns"
   ]
  },
  {
   "cell_type": "code",
   "execution_count": 96,
   "id": "2fe402f4",
   "metadata": {
    "ExecuteTime": {
     "end_time": "2021-08-07T17:31:28.219644Z",
     "start_time": "2021-08-07T17:31:28.192719Z"
    }
   },
   "outputs": [
    {
     "data": {
      "text/html": [
       "<div>\n",
       "<style scoped>\n",
       "    .dataframe tbody tr th:only-of-type {\n",
       "        vertical-align: middle;\n",
       "    }\n",
       "\n",
       "    .dataframe tbody tr th {\n",
       "        vertical-align: top;\n",
       "    }\n",
       "\n",
       "    .dataframe thead th {\n",
       "        text-align: right;\n",
       "    }\n",
       "</style>\n",
       "<table border=\"1\" class=\"dataframe\">\n",
       "  <thead>\n",
       "    <tr style=\"text-align: right;\">\n",
       "      <th></th>\n",
       "      <th>Close</th>\n",
       "      <th>subjectivity</th>\n",
       "      <th>polarity</th>\n",
       "      <th>compound</th>\n",
       "      <th>negative</th>\n",
       "      <th>neutral</th>\n",
       "      <th>positive</th>\n",
       "    </tr>\n",
       "  </thead>\n",
       "  <tbody>\n",
       "    <tr>\n",
       "      <th>0</th>\n",
       "      <td>4018.879883</td>\n",
       "      <td>0.298148</td>\n",
       "      <td>0.099074</td>\n",
       "      <td>-0.8555</td>\n",
       "      <td>0.125</td>\n",
       "      <td>0.773</td>\n",
       "      <td>0.102</td>\n",
       "    </tr>\n",
       "    <tr>\n",
       "      <th>1</th>\n",
       "      <td>4060.020020</td>\n",
       "      <td>0.429167</td>\n",
       "      <td>0.025000</td>\n",
       "      <td>-0.5994</td>\n",
       "      <td>0.132</td>\n",
       "      <td>0.755</td>\n",
       "      <td>0.113</td>\n",
       "    </tr>\n",
       "    <tr>\n",
       "      <th>2</th>\n",
       "      <td>4115.370117</td>\n",
       "      <td>0.475140</td>\n",
       "      <td>0.032481</td>\n",
       "      <td>0.9169</td>\n",
       "      <td>0.099</td>\n",
       "      <td>0.791</td>\n",
       "      <td>0.110</td>\n",
       "    </tr>\n",
       "    <tr>\n",
       "      <th>3</th>\n",
       "      <td>4183.729980</td>\n",
       "      <td>0.458412</td>\n",
       "      <td>0.296404</td>\n",
       "      <td>-0.3612</td>\n",
       "      <td>0.171</td>\n",
       "      <td>0.659</td>\n",
       "      <td>0.170</td>\n",
       "    </tr>\n",
       "    <tr>\n",
       "      <th>4</th>\n",
       "      <td>4120.430176</td>\n",
       "      <td>0.486204</td>\n",
       "      <td>-0.035142</td>\n",
       "      <td>-0.6808</td>\n",
       "      <td>0.100</td>\n",
       "      <td>0.816</td>\n",
       "      <td>0.084</td>\n",
       "    </tr>\n",
       "    <tr>\n",
       "      <th>...</th>\n",
       "      <td>...</td>\n",
       "      <td>...</td>\n",
       "      <td>...</td>\n",
       "      <td>...</td>\n",
       "      <td>...</td>\n",
       "      <td>...</td>\n",
       "      <td>...</td>\n",
       "    </tr>\n",
       "    <tr>\n",
       "      <th>4887</th>\n",
       "      <td>46444.179688</td>\n",
       "      <td>0.368617</td>\n",
       "      <td>0.091200</td>\n",
       "      <td>-0.9999</td>\n",
       "      <td>0.145</td>\n",
       "      <td>0.789</td>\n",
       "      <td>0.066</td>\n",
       "    </tr>\n",
       "    <tr>\n",
       "      <th>4888</th>\n",
       "      <td>46973.539062</td>\n",
       "      <td>0.386303</td>\n",
       "      <td>0.065157</td>\n",
       "      <td>-0.9995</td>\n",
       "      <td>0.116</td>\n",
       "      <td>0.809</td>\n",
       "      <td>0.075</td>\n",
       "    </tr>\n",
       "    <tr>\n",
       "      <th>4889</th>\n",
       "      <td>47353.750000</td>\n",
       "      <td>0.395275</td>\n",
       "      <td>0.085493</td>\n",
       "      <td>-0.9996</td>\n",
       "      <td>0.120</td>\n",
       "      <td>0.807</td>\n",
       "      <td>0.074</td>\n",
       "    </tr>\n",
       "    <tr>\n",
       "      <th>4890</th>\n",
       "      <td>47613.078125</td>\n",
       "      <td>0.399135</td>\n",
       "      <td>0.068856</td>\n",
       "      <td>-0.9998</td>\n",
       "      <td>0.145</td>\n",
       "      <td>0.782</td>\n",
       "      <td>0.073</td>\n",
       "    </tr>\n",
       "    <tr>\n",
       "      <th>4891</th>\n",
       "      <td>47746.218750</td>\n",
       "      <td>0.389012</td>\n",
       "      <td>0.040116</td>\n",
       "      <td>-0.9999</td>\n",
       "      <td>0.149</td>\n",
       "      <td>0.782</td>\n",
       "      <td>0.069</td>\n",
       "    </tr>\n",
       "  </tbody>\n",
       "</table>\n",
       "<p>4892 rows × 7 columns</p>\n",
       "</div>"
      ],
      "text/plain": [
       "             Close  subjectivity  polarity  compound  negative  neutral  \\\n",
       "0      4018.879883      0.298148  0.099074   -0.8555     0.125    0.773   \n",
       "1      4060.020020      0.429167  0.025000   -0.5994     0.132    0.755   \n",
       "2      4115.370117      0.475140  0.032481    0.9169     0.099    0.791   \n",
       "3      4183.729980      0.458412  0.296404   -0.3612     0.171    0.659   \n",
       "4      4120.430176      0.486204 -0.035142   -0.6808     0.100    0.816   \n",
       "...            ...           ...       ...       ...       ...      ...   \n",
       "4887  46444.179688      0.368617  0.091200   -0.9999     0.145    0.789   \n",
       "4888  46973.539062      0.386303  0.065157   -0.9995     0.116    0.809   \n",
       "4889  47353.750000      0.395275  0.085493   -0.9996     0.120    0.807   \n",
       "4890  47613.078125      0.399135  0.068856   -0.9998     0.145    0.782   \n",
       "4891  47746.218750      0.389012  0.040116   -0.9999     0.149    0.782   \n",
       "\n",
       "      positive  \n",
       "0        0.102  \n",
       "1        0.113  \n",
       "2        0.110  \n",
       "3        0.170  \n",
       "4        0.084  \n",
       "...        ...  \n",
       "4887     0.066  \n",
       "4888     0.075  \n",
       "4889     0.074  \n",
       "4890     0.073  \n",
       "4891     0.069  \n",
       "\n",
       "[4892 rows x 7 columns]"
      ]
     },
     "execution_count": 96,
     "metadata": {},
     "output_type": "execute_result"
    }
   ],
   "source": [
    "df = df_merge.drop(columns=['Date', 'Open', 'High', 'Low', 'Adj Close', 'Volume', 'headline_text'])\n",
    "df"
   ]
  },
  {
   "cell_type": "markdown",
   "id": "bf8d74e4",
   "metadata": {},
   "source": [
    "### Data Normalization"
   ]
  },
  {
   "cell_type": "code",
   "execution_count": 97,
   "id": "6844ba09",
   "metadata": {
    "ExecuteTime": {
     "end_time": "2021-08-07T17:32:06.836914Z",
     "start_time": "2021-08-07T17:32:06.801010Z"
    }
   },
   "outputs": [
    {
     "data": {
      "text/html": [
       "<div>\n",
       "<style scoped>\n",
       "    .dataframe tbody tr th:only-of-type {\n",
       "        vertical-align: middle;\n",
       "    }\n",
       "\n",
       "    .dataframe tbody tr th {\n",
       "        vertical-align: top;\n",
       "    }\n",
       "\n",
       "    .dataframe thead th {\n",
       "        text-align: right;\n",
       "    }\n",
       "</style>\n",
       "<table border=\"1\" class=\"dataframe\">\n",
       "  <thead>\n",
       "    <tr style=\"text-align: right;\">\n",
       "      <th></th>\n",
       "      <th>Close</th>\n",
       "      <th>subjectivity</th>\n",
       "      <th>polarity</th>\n",
       "      <th>compound</th>\n",
       "      <th>negative</th>\n",
       "      <th>neutral</th>\n",
       "      <th>positive</th>\n",
       "    </tr>\n",
       "  </thead>\n",
       "  <tbody>\n",
       "    <tr>\n",
       "      <th>0</th>\n",
       "      <td>0.031426</td>\n",
       "      <td>0.298148</td>\n",
       "      <td>0.404464</td>\n",
       "      <td>0.072254</td>\n",
       "      <td>0.382263</td>\n",
       "      <td>0.699735</td>\n",
       "      <td>0.134921</td>\n",
       "    </tr>\n",
       "    <tr>\n",
       "      <th>1</th>\n",
       "      <td>0.032337</td>\n",
       "      <td>0.429167</td>\n",
       "      <td>0.287402</td>\n",
       "      <td>0.200310</td>\n",
       "      <td>0.403670</td>\n",
       "      <td>0.675926</td>\n",
       "      <td>0.149471</td>\n",
       "    </tr>\n",
       "    <tr>\n",
       "      <th>2</th>\n",
       "      <td>0.033563</td>\n",
       "      <td>0.475140</td>\n",
       "      <td>0.299225</td>\n",
       "      <td>0.958498</td>\n",
       "      <td>0.302752</td>\n",
       "      <td>0.723545</td>\n",
       "      <td>0.145503</td>\n",
       "    </tr>\n",
       "    <tr>\n",
       "      <th>3</th>\n",
       "      <td>0.035077</td>\n",
       "      <td>0.458412</td>\n",
       "      <td>0.716311</td>\n",
       "      <td>0.319416</td>\n",
       "      <td>0.522936</td>\n",
       "      <td>0.548942</td>\n",
       "      <td>0.224868</td>\n",
       "    </tr>\n",
       "    <tr>\n",
       "      <th>4</th>\n",
       "      <td>0.033675</td>\n",
       "      <td>0.486204</td>\n",
       "      <td>0.192357</td>\n",
       "      <td>0.159608</td>\n",
       "      <td>0.305810</td>\n",
       "      <td>0.756614</td>\n",
       "      <td>0.111111</td>\n",
       "    </tr>\n",
       "    <tr>\n",
       "      <th>...</th>\n",
       "      <td>...</td>\n",
       "      <td>...</td>\n",
       "      <td>...</td>\n",
       "      <td>...</td>\n",
       "      <td>...</td>\n",
       "      <td>...</td>\n",
       "      <td>...</td>\n",
       "    </tr>\n",
       "    <tr>\n",
       "      <th>4887</th>\n",
       "      <td>0.971159</td>\n",
       "      <td>0.368617</td>\n",
       "      <td>0.392020</td>\n",
       "      <td>0.000050</td>\n",
       "      <td>0.443425</td>\n",
       "      <td>0.720899</td>\n",
       "      <td>0.087302</td>\n",
       "    </tr>\n",
       "    <tr>\n",
       "      <th>4888</th>\n",
       "      <td>0.982885</td>\n",
       "      <td>0.386303</td>\n",
       "      <td>0.350863</td>\n",
       "      <td>0.000250</td>\n",
       "      <td>0.354740</td>\n",
       "      <td>0.747354</td>\n",
       "      <td>0.099206</td>\n",
       "    </tr>\n",
       "    <tr>\n",
       "      <th>4889</th>\n",
       "      <td>0.991307</td>\n",
       "      <td>0.395275</td>\n",
       "      <td>0.383001</td>\n",
       "      <td>0.000200</td>\n",
       "      <td>0.366972</td>\n",
       "      <td>0.744709</td>\n",
       "      <td>0.097884</td>\n",
       "    </tr>\n",
       "    <tr>\n",
       "      <th>4890</th>\n",
       "      <td>0.997051</td>\n",
       "      <td>0.399135</td>\n",
       "      <td>0.356709</td>\n",
       "      <td>0.000100</td>\n",
       "      <td>0.443425</td>\n",
       "      <td>0.711640</td>\n",
       "      <td>0.096561</td>\n",
       "    </tr>\n",
       "    <tr>\n",
       "      <th>4891</th>\n",
       "      <td>1.000000</td>\n",
       "      <td>0.389012</td>\n",
       "      <td>0.311290</td>\n",
       "      <td>0.000050</td>\n",
       "      <td>0.455657</td>\n",
       "      <td>0.711640</td>\n",
       "      <td>0.091270</td>\n",
       "    </tr>\n",
       "  </tbody>\n",
       "</table>\n",
       "<p>4892 rows × 7 columns</p>\n",
       "</div>"
      ],
      "text/plain": [
       "         Close  subjectivity  polarity  compound  negative   neutral  positive\n",
       "0     0.031426      0.298148  0.404464  0.072254  0.382263  0.699735  0.134921\n",
       "1     0.032337      0.429167  0.287402  0.200310  0.403670  0.675926  0.149471\n",
       "2     0.033563      0.475140  0.299225  0.958498  0.302752  0.723545  0.145503\n",
       "3     0.035077      0.458412  0.716311  0.319416  0.522936  0.548942  0.224868\n",
       "4     0.033675      0.486204  0.192357  0.159608  0.305810  0.756614  0.111111\n",
       "...        ...           ...       ...       ...       ...       ...       ...\n",
       "4887  0.971159      0.368617  0.392020  0.000050  0.443425  0.720899  0.087302\n",
       "4888  0.982885      0.386303  0.350863  0.000250  0.354740  0.747354  0.099206\n",
       "4889  0.991307      0.395275  0.383001  0.000200  0.366972  0.744709  0.097884\n",
       "4890  0.997051      0.399135  0.356709  0.000100  0.443425  0.711640  0.096561\n",
       "4891  1.000000      0.389012  0.311290  0.000050  0.455657  0.711640  0.091270\n",
       "\n",
       "[4892 rows x 7 columns]"
      ]
     },
     "execution_count": 97,
     "metadata": {},
     "output_type": "execute_result"
    }
   ],
   "source": [
    "from sklearn.preprocessing import MinMaxScaler\n",
    "sc = MinMaxScaler()\n",
    "new_df = pd.DataFrame(sc.fit_transform(df))\n",
    "new_df.columns = df.columns\n",
    "new_df.index = df.index\n",
    "new_df"
   ]
  },
  {
   "cell_type": "markdown",
   "id": "7ddd8185",
   "metadata": {
    "ExecuteTime": {
     "end_time": "2021-08-07T17:35:15.723948Z",
     "start_time": "2021-08-07T17:35:15.712980Z"
    }
   },
   "source": [
    "### Split into features and target dataset"
   ]
  },
  {
   "cell_type": "code",
   "execution_count": 99,
   "id": "2ecc2093",
   "metadata": {
    "ExecuteTime": {
     "end_time": "2021-08-07T17:35:15.723948Z",
     "start_time": "2021-08-07T17:35:15.712980Z"
    }
   },
   "outputs": [
    {
     "data": {
      "text/plain": [
       "((4892, 6), (4892,))"
      ]
     },
     "execution_count": 99,
     "metadata": {},
     "output_type": "execute_result"
    }
   ],
   "source": [
    "x = new_df.drop(columns='Close')\n",
    "y = new_df['Close']\n",
    "\n",
    "x.shape, y.shape"
   ]
  },
  {
   "cell_type": "markdown",
   "id": "7405c5bd",
   "metadata": {
    "ExecuteTime": {
     "end_time": "2021-08-07T17:37:36.237000Z",
     "start_time": "2021-08-07T17:37:36.209079Z"
    }
   },
   "source": [
    "### Split into training and testing dataset"
   ]
  },
  {
   "cell_type": "code",
   "execution_count": 100,
   "id": "3b4f72e9",
   "metadata": {
    "ExecuteTime": {
     "end_time": "2021-08-07T17:37:36.237000Z",
     "start_time": "2021-08-07T17:37:36.209079Z"
    }
   },
   "outputs": [
    {
     "data": {
      "text/plain": [
       "((3913, 6), (979, 6), (3913,), (979,))"
      ]
     },
     "execution_count": 100,
     "metadata": {},
     "output_type": "execute_result"
    }
   ],
   "source": [
    "from sklearn.model_selection import train_test_split\n",
    "x_train, x_test, y_train, y_test = train_test_split(x, y, test_size=0.2, random_state=0)\n",
    "\n",
    "x_train.shape, x_test.shape, y_train.shape, y_test.shape"
   ]
  },
  {
   "cell_type": "markdown",
   "id": "cf719053",
   "metadata": {
    "ExecuteTime": {
     "end_time": "2021-08-07T17:45:59.674610Z",
     "start_time": "2021-08-07T17:45:56.843055Z"
    }
   },
   "source": [
    "### Load & run models"
   ]
  },
  {
   "cell_type": "code",
   "execution_count": 101,
   "id": "6d7b9e3b",
   "metadata": {
    "ExecuteTime": {
     "end_time": "2021-08-07T17:45:59.674610Z",
     "start_time": "2021-08-07T17:45:56.843055Z"
    }
   },
   "outputs": [],
   "source": [
    "from sklearn.ensemble import RandomForestRegressor, GradientBoostingRegressor\n",
    "from xgboost import XGBRegressor\n",
    "\n",
    "models = {'RandomForestRegressor': RandomForestRegressor(),\n",
    "          'GradientBoostingRegressor': GradientBoostingRegressor(),\n",
    "          'XGBRegressor': XGBRegressor()}\n",
    "\n",
    "mse = {}\n",
    "\n",
    "for name, model in models.items():\n",
    "    # Fit the model\n",
    "    model.fit(x_train, y_train)\n",
    "    # check mse\n",
    "    y_pred = model.predict(x_test)\n",
    "    mse[name] = mean_squared_error(y_test, y_pred)"
   ]
  },
  {
   "cell_type": "code",
   "execution_count": 102,
   "id": "a580122f",
   "metadata": {
    "ExecuteTime": {
     "end_time": "2021-08-07T17:46:05.537011Z",
     "start_time": "2021-08-07T17:46:05.529033Z"
    }
   },
   "outputs": [
    {
     "data": {
      "text/plain": [
       "{'RandomForestRegressor': 0.02276905233351754,\n",
       " 'GradientBoostingRegressor': 0.02267025158602378,\n",
       " 'XGBRegressor': 0.02473526397442395}"
      ]
     },
     "execution_count": 102,
     "metadata": {},
     "output_type": "execute_result"
    }
   ],
   "source": [
    "mse"
   ]
  },
  {
   "cell_type": "code",
   "execution_count": 110,
   "id": "41d55984",
   "metadata": {
    "ExecuteTime": {
     "end_time": "2021-08-07T17:50:16.565826Z",
     "start_time": "2021-08-07T17:50:16.345177Z"
    }
   },
   "outputs": [
    {
     "data": {
      "text/plain": [
       "<AxesSubplot:>"
      ]
     },
     "execution_count": 110,
     "metadata": {},
     "output_type": "execute_result"
    },
    {
     "data": {
      "image/png": "[encoded data removed]",
      "text/plain": [
       "<Figure size 432x288 with 1 Axes>"
      ]
     },
     "metadata": {
      "needs_background": "light"
     },
     "output_type": "display_data"
    }
   ],
   "source": [
    "pd.DataFrame(mse, index=[0]).T.plot.bar()"
   ]
  },
  {
   "cell_type": "markdown",
   "id": "40679e21",
   "metadata": {},
   "source": [
    "> **As we see that `GradientBoostingRegressor` was model performs the best for the sentiment analysis.**"
   ]
  },
  {
   "cell_type": "code",
   "execution_count": null,
   "id": "b2043f74",
   "metadata": {},
   "outputs": [],
   "source": []
  }
 ],
 "metadata": {
  "kernelspec": {
   "display_name": "Python 3 (ipykernel)",
   "language": "python",
   "name": "python3"
  },
  "language_info": {
   "codemirror_mode": {
    "name": "ipython",
    "version": 3
   },
   "file_extension": ".py",
   "mimetype": "text/x-python",
   "name": "python",
   "nbconvert_exporter": "python",
   "pygments_lexer": "ipython3",
   "version": "3.9.5"
  },
  "toc": {
   "base_numbering": 1,
   "nav_menu": {},
   "number_sections": true,
   "sideBar": true,
   "skip_h1_title": true,
   "title_cell": "Table of Contents",
   "title_sidebar": "Contents",
   "toc_cell": false,
   "toc_position": {},
   "toc_section_display": true,
   "toc_window_display": false
  },
  "varInspector": {
   "cols": {
    "lenName": 16,
    "lenType": 16,
    "lenVar": 40
   },
   "kernels_config": {
    "python": {
     "delete_cmd_postfix": "",
     "delete_cmd_prefix": "del ",
     "library": "var_list.py",
     "varRefreshCmd": "print(var_dic_list())"
    },
    "r": {
     "delete_cmd_postfix": ") ",
     "delete_cmd_prefix": "rm(",
     "library": "var_list.r",
     "varRefreshCmd": "cat(var_dic_list()) "
    }
   },
   "types_to_exclude": [
    "module",
    "function",
    "builtin_function_or_method",
    "instance",
    "_Feature"
   ],
   "window_display": false
  }
 },
 "nbformat": 4,
 "nbformat_minor": 5
}
