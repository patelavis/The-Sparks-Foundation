{
 "cells": [
  {
   "cell_type": "markdown",
   "id": "0fac5568",
   "metadata": {},
   "source": [
    "# Task_1: *Predict the percentage of an student based on the no. of study hours.*"
   ]
  },
  {
   "cell_type": "code",
   "execution_count": 1,
   "id": "8f6dbade",
   "metadata": {
    "ExecuteTime": {
     "end_time": "2021-08-07T08:43:31.677280Z",
     "start_time": "2021-08-07T08:43:30.119764Z"
    }
   },
   "outputs": [],
   "source": [
    "# Import libraries\n",
    "import pandas as pd\n",
    "import numpy as np\n",
    "import matplotlib.pyplot as plt\n",
    "import seaborn as sns"
   ]
  },
  {
   "cell_type": "markdown",
   "id": "9d9bbcb9",
   "metadata": {},
   "source": [
    "## Load Data"
   ]
  },
  {
   "cell_type": "code",
   "execution_count": 2,
   "id": "bb1c78c9",
   "metadata": {
    "ExecuteTime": {
     "end_time": "2021-08-07T08:37:15.391988Z",
     "start_time": "2021-08-07T08:37:14.526512Z"
    }
   },
   "outputs": [
    {
     "data": {
      "text/html": [
       "<div>\n",
       "<style scoped>\n",
       "    .dataframe tbody tr th:only-of-type {\n",
       "        vertical-align: middle;\n",
       "    }\n",
       "\n",
       "    .dataframe tbody tr th {\n",
       "        vertical-align: top;\n",
       "    }\n",
       "\n",
       "    .dataframe thead th {\n",
       "        text-align: right;\n",
       "    }\n",
       "</style>\n",
       "<table border=\"1\" class=\"dataframe\">\n",
       "  <thead>\n",
       "    <tr style=\"text-align: right;\">\n",
       "      <th></th>\n",
       "      <th>Hours</th>\n",
       "      <th>Scores</th>\n",
       "    </tr>\n",
       "  </thead>\n",
       "  <tbody>\n",
       "    <tr>\n",
       "      <th>0</th>\n",
       "      <td>2.5</td>\n",
       "      <td>21</td>\n",
       "    </tr>\n",
       "    <tr>\n",
       "      <th>1</th>\n",
       "      <td>5.1</td>\n",
       "      <td>47</td>\n",
       "    </tr>\n",
       "    <tr>\n",
       "      <th>2</th>\n",
       "      <td>3.2</td>\n",
       "      <td>27</td>\n",
       "    </tr>\n",
       "    <tr>\n",
       "      <th>3</th>\n",
       "      <td>8.5</td>\n",
       "      <td>75</td>\n",
       "    </tr>\n",
       "    <tr>\n",
       "      <th>4</th>\n",
       "      <td>3.5</td>\n",
       "      <td>30</td>\n",
       "    </tr>\n",
       "  </tbody>\n",
       "</table>\n",
       "</div>"
      ],
      "text/plain": [
       "   Hours  Scores\n",
       "0    2.5      21\n",
       "1    5.1      47\n",
       "2    3.2      27\n",
       "3    8.5      75\n",
       "4    3.5      30"
      ]
     },
     "execution_count": 2,
     "metadata": {},
     "output_type": "execute_result"
    }
   ],
   "source": [
    "df = pd.read_csv('http://bit.ly/w-data')\n",
    "df.head()"
   ]
  },
  {
   "cell_type": "markdown",
   "id": "529c78d8",
   "metadata": {},
   "source": [
    "## Data Visualizations "
   ]
  },
  {
   "cell_type": "code",
   "execution_count": 3,
   "id": "37748cfa",
   "metadata": {
    "ExecuteTime": {
     "end_time": "2021-08-07T08:37:15.861740Z",
     "start_time": "2021-08-07T08:37:15.424900Z"
    }
   },
   "outputs": [
    {
     "data": {
      "image/png": "[encoded data removed]",
      "text/plain": [
       "<Figure size 432x288 with 1 Axes>"
      ]
     },
     "metadata": {
      "needs_background": "light"
     },
     "output_type": "display_data"
    }
   ],
   "source": [
    "# Plot scatter\n",
    "sns.scatterplot(x=df['Hours'], y=df['Scores'])\n",
    "plt.title('Hours vs Percentage')  \n",
    "plt.xlabel('Hours Studied')  \n",
    "plt.ylabel('Percentage Score')  \n",
    "plt.show()"
   ]
  },
  {
   "cell_type": "markdown",
   "id": "57ea3445",
   "metadata": {},
   "source": [
    "## Preparing data"
   ]
  },
  {
   "cell_type": "code",
   "execution_count": 4,
   "id": "bd76a716",
   "metadata": {
    "ExecuteTime": {
     "end_time": "2021-08-07T08:37:16.855071Z",
     "start_time": "2021-08-07T08:37:15.898646Z"
    }
   },
   "outputs": [
    {
     "data": {
      "text/plain": [
       "((20,), (5,), (20,), (5,))"
      ]
     },
     "execution_count": 4,
     "metadata": {},
     "output_type": "execute_result"
    }
   ],
   "source": [
    "# Split data into features and target data\n",
    "X = df['Hours'].values\n",
    "y = df['Scores'].values\n",
    "\n",
    "# split into training and testing dataset\n",
    "from sklearn.model_selection import train_test_split\n",
    "X_train, X_test, y_train, y_test = train_test_split(X, y, test_size=0.2, random_state=0)\n",
    "\n",
    "# check shape of training and testing dataset\n",
    "X_train.shape, X_test.shape, y_train.shape, y_test.shape"
   ]
  },
  {
   "cell_type": "markdown",
   "id": "6564754d",
   "metadata": {},
   "source": [
    "## Create Model"
   ]
  },
  {
   "cell_type": "code",
   "execution_count": 5,
   "id": "ea211100",
   "metadata": {
    "ExecuteTime": {
     "end_time": "2021-08-07T08:37:16.963726Z",
     "start_time": "2021-08-07T08:37:16.903883Z"
    }
   },
   "outputs": [
    {
     "data": {
      "text/plain": [
       "LinearRegression()"
      ]
     },
     "execution_count": 5,
     "metadata": {},
     "output_type": "execute_result"
    }
   ],
   "source": [
    "# Create model\n",
    "from sklearn.linear_model import LinearRegression\n",
    "\n",
    "model = LinearRegression()\n",
    "\n",
    "# Fit the model\n",
    "model.fit(X_train.reshape(-1, 1), y_train.reshape(-1, 1))"
   ]
  },
  {
   "cell_type": "code",
   "execution_count": 6,
   "id": "7efcf828",
   "metadata": {
    "ExecuteTime": {
     "end_time": "2021-08-07T08:37:17.040329Z",
     "start_time": "2021-08-07T08:37:17.013401Z"
    }
   },
   "outputs": [
    {
     "data": {
      "text/plain": [
       "94.54906892105355"
      ]
     },
     "execution_count": 6,
     "metadata": {},
     "output_type": "execute_result"
    }
   ],
   "source": [
    "# Check model accuracy score\n",
    "accuracy = model.score(X_test.reshape(-1, 1), y_test.reshape(-1, 1)) * 100\n",
    "accuracy"
   ]
  },
  {
   "cell_type": "code",
   "execution_count": 7,
   "id": "f139b810",
   "metadata": {
    "ExecuteTime": {
     "end_time": "2021-08-07T08:37:17.119118Z",
     "start_time": "2021-08-07T08:37:17.110143Z"
    }
   },
   "outputs": [
    {
     "data": {
      "text/plain": [
       "array([[26.79480124, 52.56250809, 33.73226078, 86.25874013, 36.70545772,\n",
       "        16.88414476, 93.19619966, 56.52677068, 84.27660883, 28.77693254,\n",
       "        78.33021494, 60.49103328, 46.6161142 , 34.72332643, 12.91988217,\n",
       "        90.22300272, 26.79480124, 20.84840735, 62.47316457, 75.357018  ,\n",
       "        28.77693254, 49.58931115, 39.67865467, 70.40168976, 79.32128059]])"
      ]
     },
     "execution_count": 7,
     "metadata": {},
     "output_type": "execute_result"
    }
   ],
   "source": [
    "# Calculate Regression line values\n",
    "line = model.coef_ * X + model.intercept_\n",
    "line"
   ]
  },
  {
   "cell_type": "code",
   "execution_count": 8,
   "id": "db92c208",
   "metadata": {
    "ExecuteTime": {
     "end_time": "2021-08-07T08:37:17.468223Z",
     "start_time": "2021-08-07T08:37:17.180991Z"
    }
   },
   "outputs": [
    {
     "data": {
      "image/png": "[encoded data removed]",
      "text/plain": [
       "<Figure size 432x288 with 1 Axes>"
      ]
     },
     "metadata": {
      "needs_background": "light"
     },
     "output_type": "display_data"
    }
   ],
   "source": [
    "# Plot Regression line\n",
    "sns.regplot(x=X, y=y)\n",
    "plt.title('Hours vs Percentage')  \n",
    "plt.xlabel('Hours Studied')  \n",
    "plt.ylabel('Percentage Score')  \n",
    "plt.show()"
   ]
  },
  {
   "cell_type": "markdown",
   "id": "7b6ee72e",
   "metadata": {},
   "source": [
    "## Making Predictions"
   ]
  },
  {
   "cell_type": "code",
   "execution_count": 9,
   "id": "b1630d55",
   "metadata": {
    "ExecuteTime": {
     "end_time": "2021-08-07T08:37:22.411516Z",
     "start_time": "2021-08-07T08:37:22.404536Z"
    }
   },
   "outputs": [
    {
     "data": {
      "text/plain": [
       "array([[16.88414476],\n",
       "       [33.73226078],\n",
       "       [75.357018  ],\n",
       "       [26.79480124],\n",
       "       [60.49103328]])"
      ]
     },
     "execution_count": 9,
     "metadata": {},
     "output_type": "execute_result"
    }
   ],
   "source": [
    "y_pred = model.predict(X_test.reshape(-1, 1))\n",
    "y_pred"
   ]
  },
  {
   "cell_type": "markdown",
   "id": "03edc7eb",
   "metadata": {},
   "source": [
    "> **What will be predicted score if a student studies for 9.25 hrs/ day?**"
   ]
  },
  {
   "cell_type": "code",
   "execution_count": 11,
   "id": "84da55a1",
   "metadata": {
    "ExecuteTime": {
     "end_time": "2021-08-07T08:37:39.654311Z",
     "start_time": "2021-08-07T08:37:29.884576Z"
    }
   },
   "outputs": [
    {
     "name": "stdout",
     "output_type": "stream",
     "text": [
      "Hours : 9.25\n",
      "Predicted percentage score : 93.69173248737535\n"
     ]
    }
   ],
   "source": [
    "hours = float(input('Hours : '))\n",
    "print(f'Predicted percentage score : {model.predict([[hours]])[0][0]}')"
   ]
  },
  {
   "cell_type": "markdown",
   "id": "90975ba4",
   "metadata": {},
   "source": [
    "## Evaluating the model"
   ]
  },
  {
   "cell_type": "code",
   "execution_count": 12,
   "id": "3a19ff9c",
   "metadata": {
    "ExecuteTime": {
     "end_time": "2021-08-07T08:40:52.224913Z",
     "start_time": "2021-08-07T08:40:52.208955Z"
    }
   },
   "outputs": [
    {
     "name": "stdout",
     "output_type": "stream",
     "text": [
      "Mean absolute error : \t\t4.183859899002975\n",
      "Mean squared error : \t\t21.598769307217406\n",
      "Root mean squared error : \t4.647447612100367\n"
     ]
    }
   ],
   "source": [
    "from sklearn.metrics import mean_absolute_error, mean_squared_error\n",
    "\n",
    "# Calculate mean absolute error\n",
    "mae = mean_absolute_error(y_test.reshape(-1, 1), y_pred)\n",
    "# Calculate mean squared error\n",
    "mse = mean_squared_error(y_test.reshape(-1, 1), y_pred)\n",
    "# Calculate Root mean squared error\n",
    "rmse = np.sqrt(mean_squared_error(y_test.reshape(-1, 1), y_pred))\n",
    "\n",
    "print(f'Mean absolute error : \\t\\t{mae}')\n",
    "print(f'Mean squared error : \\t\\t{mse}')\n",
    "print(f'Root mean squared error : \\t{rmse}')"
   ]
  },
  {
   "cell_type": "code",
   "execution_count": null,
   "id": "7ed264e8",
   "metadata": {},
   "outputs": [],
   "source": []
  }
 ],
 "metadata": {
  "kernelspec": {
   "display_name": "Python 3 (ipykernel)",
   "language": "python",
   "name": "python3"
  },
  "language_info": {
   "codemirror_mode": {
    "name": "ipython",
    "version": 3
   },
   "file_extension": ".py",
   "mimetype": "text/x-python",
   "name": "python",
   "nbconvert_exporter": "python",
   "pygments_lexer": "ipython3",
   "version": "3.9.5"
  },
  "toc": {
   "base_numbering": 1,
   "nav_menu": {
    "height": "164.986px",
    "width": "167.997px"
   },
   "number_sections": false,
   "sideBar": true,
   "skip_h1_title": false,
   "title_cell": "Table of Contents",
   "title_sidebar": "Contents",
   "toc_cell": false,
   "toc_position": {
    "height": "calc(100% - 180px)",
    "left": "10px",
    "top": "150px",
    "width": "248.352px"
   },
   "toc_section_display": true,
   "toc_window_display": false
  },
  "varInspector": {
   "cols": {
    "lenName": 16,
    "lenType": 16,
    "lenVar": 40
   },
   "kernels_config": {
    "python": {
     "delete_cmd_postfix": "",
     "delete_cmd_prefix": "del ",
     "library": "var_list.py",
     "varRefreshCmd": "print(var_dic_list())"
    },
    "r": {
     "delete_cmd_postfix": ") ",
     "delete_cmd_prefix": "rm(",
     "library": "var_list.r",
     "varRefreshCmd": "cat(var_dic_list()) "
    }
   },
   "types_to_exclude": [
    "module",
    "function",
    "builtin_function_or_method",
    "instance",
    "_Feature"
   ],
   "window_display": false
  }
 },
 "nbformat": 4,
 "nbformat_minor": 5
}
