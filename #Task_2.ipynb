{
 "cells": [
  {
   "cell_type": "markdown",
   "id": "e8dc3ede",
   "metadata": {},
   "source": [
    "# Task_2: Prediction using Unsupervised ML"
   ]
  },
  {
   "cell_type": "markdown",
   "id": "7b05e046",
   "metadata": {},
   "source": [
    "## Load Libraries"
   ]
  },
  {
   "cell_type": "code",
   "execution_count": 1,
   "id": "074f248d",
   "metadata": {
    "ExecuteTime": {
     "end_time": "2021-08-07T10:59:02.472610Z",
     "start_time": "2021-08-07T10:59:00.901969Z"
    }
   },
   "outputs": [],
   "source": [
    "import numpy as np\n",
    "import pandas as pd\n",
    "import matplotlib.pyplot as plt\n",
    "import seaborn as sns"
   ]
  },
  {
   "cell_type": "markdown",
   "id": "10fcda4e",
   "metadata": {
    "ExecuteTime": {
     "end_time": "2021-08-07T10:51:54.207514Z",
     "start_time": "2021-08-07T10:51:54.203527Z"
    }
   },
   "source": [
    "## Load data"
   ]
  },
  {
   "cell_type": "code",
   "execution_count": 2,
   "id": "9426ceda",
   "metadata": {
    "ExecuteTime": {
     "end_time": "2021-08-07T10:59:02.520490Z",
     "start_time": "2021-08-07T10:59:02.475611Z"
    }
   },
   "outputs": [
    {
     "data": {
      "text/html": [
       "<div>\n",
       "<style scoped>\n",
       "    .dataframe tbody tr th:only-of-type {\n",
       "        vertical-align: middle;\n",
       "    }\n",
       "\n",
       "    .dataframe tbody tr th {\n",
       "        vertical-align: top;\n",
       "    }\n",
       "\n",
       "    .dataframe thead th {\n",
       "        text-align: right;\n",
       "    }\n",
       "</style>\n",
       "<table border=\"1\" class=\"dataframe\">\n",
       "  <thead>\n",
       "    <tr style=\"text-align: right;\">\n",
       "      <th></th>\n",
       "      <th>Id</th>\n",
       "      <th>SepalLengthCm</th>\n",
       "      <th>SepalWidthCm</th>\n",
       "      <th>PetalLengthCm</th>\n",
       "      <th>PetalWidthCm</th>\n",
       "      <th>Species</th>\n",
       "    </tr>\n",
       "  </thead>\n",
       "  <tbody>\n",
       "    <tr>\n",
       "      <th>0</th>\n",
       "      <td>1</td>\n",
       "      <td>5.1</td>\n",
       "      <td>3.5</td>\n",
       "      <td>1.4</td>\n",
       "      <td>0.2</td>\n",
       "      <td>Iris-setosa</td>\n",
       "    </tr>\n",
       "    <tr>\n",
       "      <th>1</th>\n",
       "      <td>2</td>\n",
       "      <td>4.9</td>\n",
       "      <td>3.0</td>\n",
       "      <td>1.4</td>\n",
       "      <td>0.2</td>\n",
       "      <td>Iris-setosa</td>\n",
       "    </tr>\n",
       "    <tr>\n",
       "      <th>2</th>\n",
       "      <td>3</td>\n",
       "      <td>4.7</td>\n",
       "      <td>3.2</td>\n",
       "      <td>1.3</td>\n",
       "      <td>0.2</td>\n",
       "      <td>Iris-setosa</td>\n",
       "    </tr>\n",
       "    <tr>\n",
       "      <th>3</th>\n",
       "      <td>4</td>\n",
       "      <td>4.6</td>\n",
       "      <td>3.1</td>\n",
       "      <td>1.5</td>\n",
       "      <td>0.2</td>\n",
       "      <td>Iris-setosa</td>\n",
       "    </tr>\n",
       "    <tr>\n",
       "      <th>4</th>\n",
       "      <td>5</td>\n",
       "      <td>5.0</td>\n",
       "      <td>3.6</td>\n",
       "      <td>1.4</td>\n",
       "      <td>0.2</td>\n",
       "      <td>Iris-setosa</td>\n",
       "    </tr>\n",
       "    <tr>\n",
       "      <th>...</th>\n",
       "      <td>...</td>\n",
       "      <td>...</td>\n",
       "      <td>...</td>\n",
       "      <td>...</td>\n",
       "      <td>...</td>\n",
       "      <td>...</td>\n",
       "    </tr>\n",
       "    <tr>\n",
       "      <th>145</th>\n",
       "      <td>146</td>\n",
       "      <td>6.7</td>\n",
       "      <td>3.0</td>\n",
       "      <td>5.2</td>\n",
       "      <td>2.3</td>\n",
       "      <td>Iris-virginica</td>\n",
       "    </tr>\n",
       "    <tr>\n",
       "      <th>146</th>\n",
       "      <td>147</td>\n",
       "      <td>6.3</td>\n",
       "      <td>2.5</td>\n",
       "      <td>5.0</td>\n",
       "      <td>1.9</td>\n",
       "      <td>Iris-virginica</td>\n",
       "    </tr>\n",
       "    <tr>\n",
       "      <th>147</th>\n",
       "      <td>148</td>\n",
       "      <td>6.5</td>\n",
       "      <td>3.0</td>\n",
       "      <td>5.2</td>\n",
       "      <td>2.0</td>\n",
       "      <td>Iris-virginica</td>\n",
       "    </tr>\n",
       "    <tr>\n",
       "      <th>148</th>\n",
       "      <td>149</td>\n",
       "      <td>6.2</td>\n",
       "      <td>3.4</td>\n",
       "      <td>5.4</td>\n",
       "      <td>2.3</td>\n",
       "      <td>Iris-virginica</td>\n",
       "    </tr>\n",
       "    <tr>\n",
       "      <th>149</th>\n",
       "      <td>150</td>\n",
       "      <td>5.9</td>\n",
       "      <td>3.0</td>\n",
       "      <td>5.1</td>\n",
       "      <td>1.8</td>\n",
       "      <td>Iris-virginica</td>\n",
       "    </tr>\n",
       "  </tbody>\n",
       "</table>\n",
       "<p>150 rows × 6 columns</p>\n",
       "</div>"
      ],
      "text/plain": [
       "      Id  SepalLengthCm  SepalWidthCm  PetalLengthCm  PetalWidthCm  \\\n",
       "0      1            5.1           3.5            1.4           0.2   \n",
       "1      2            4.9           3.0            1.4           0.2   \n",
       "2      3            4.7           3.2            1.3           0.2   \n",
       "3      4            4.6           3.1            1.5           0.2   \n",
       "4      5            5.0           3.6            1.4           0.2   \n",
       "..   ...            ...           ...            ...           ...   \n",
       "145  146            6.7           3.0            5.2           2.3   \n",
       "146  147            6.3           2.5            5.0           1.9   \n",
       "147  148            6.5           3.0            5.2           2.0   \n",
       "148  149            6.2           3.4            5.4           2.3   \n",
       "149  150            5.9           3.0            5.1           1.8   \n",
       "\n",
       "            Species  \n",
       "0       Iris-setosa  \n",
       "1       Iris-setosa  \n",
       "2       Iris-setosa  \n",
       "3       Iris-setosa  \n",
       "4       Iris-setosa  \n",
       "..              ...  \n",
       "145  Iris-virginica  \n",
       "146  Iris-virginica  \n",
       "147  Iris-virginica  \n",
       "148  Iris-virginica  \n",
       "149  Iris-virginica  \n",
       "\n",
       "[150 rows x 6 columns]"
      ]
     },
     "execution_count": 2,
     "metadata": {},
     "output_type": "execute_result"
    }
   ],
   "source": [
    "df = pd.read_csv('Iris.csv')\n",
    "df"
   ]
  },
  {
   "cell_type": "code",
   "execution_count": 3,
   "id": "0a61beb3",
   "metadata": {
    "ExecuteTime": {
     "end_time": "2021-08-07T10:59:02.536448Z",
     "start_time": "2021-08-07T10:59:02.523483Z"
    }
   },
   "outputs": [
    {
     "data": {
      "text/plain": [
       "Index(['Id', 'SepalLengthCm', 'SepalWidthCm', 'PetalLengthCm', 'PetalWidthCm',\n",
       "       'Species'],\n",
       "      dtype='object')"
      ]
     },
     "execution_count": 3,
     "metadata": {},
     "output_type": "execute_result"
    }
   ],
   "source": [
    "df.columns"
   ]
  },
  {
   "cell_type": "markdown",
   "id": "4e19d1c2",
   "metadata": {
    "ExecuteTime": {
     "end_time": "2021-08-02T19:27:18.147952Z",
     "start_time": "2021-08-02T19:27:18.135946Z"
    }
   },
   "source": [
    "## Columns `['SepalLengthCm', 'SepalWidthCm', 'PetalLengthCm', 'PetalWidthCm']` as features"
   ]
  },
  {
   "cell_type": "code",
   "execution_count": 4,
   "id": "9589aeae",
   "metadata": {
    "ExecuteTime": {
     "end_time": "2021-08-07T10:59:02.552413Z",
     "start_time": "2021-08-07T10:59:02.541439Z"
    }
   },
   "outputs": [],
   "source": [
    "x = df.iloc[:, 1:5].values"
   ]
  },
  {
   "cell_type": "markdown",
   "id": "b3ac03a9",
   "metadata": {
    "ExecuteTime": {
     "end_time": "2021-08-02T19:27:20.524806Z",
     "start_time": "2021-08-02T19:27:18.153898Z"
    }
   },
   "source": [
    "## Using the elbow method to find out the optimal number of #clusters. "
   ]
  },
  {
   "cell_type": "markdown",
   "id": "351f33e2",
   "metadata": {
    "ExecuteTime": {
     "end_time": "2021-08-02T19:27:20.524806Z",
     "start_time": "2021-08-02T19:27:18.153898Z"
    }
   },
   "source": [
    "### KMeans class from the sklearn library."
   ]
  },
  {
   "cell_type": "code",
   "execution_count": 5,
   "id": "2037c7ec",
   "metadata": {
    "ExecuteTime": {
     "end_time": "2021-08-07T10:59:04.255877Z",
     "start_time": "2021-08-07T10:59:02.557396Z"
    }
   },
   "outputs": [],
   "source": [
    "from sklearn.cluster import KMeans\n",
    "wcss=[]"
   ]
  },
  {
   "cell_type": "markdown",
   "id": "614eccc0",
   "metadata": {
    "ExecuteTime": {
     "end_time": "2021-08-02T19:27:20.524806Z",
     "start_time": "2021-08-02T19:27:18.153898Z"
    }
   },
   "source": [
    "### This loop will fit the k-means algorithm to our data and second we will compute the within cluster sum of squares and #appended to our wcss list."
   ]
  },
  {
   "cell_type": "code",
   "execution_count": 6,
   "id": "126841fe",
   "metadata": {
    "ExecuteTime": {
     "end_time": "2021-08-07T10:59:05.187583Z",
     "start_time": "2021-08-07T10:59:04.260113Z"
    }
   },
   "outputs": [],
   "source": [
    "for i in range(1,11): \n",
    "    kmeans = KMeans(n_clusters=i, init='k-means++', max_iter=300,  n_init=10, random_state=0 )\n",
    "\n",
    "    # i above is between 1-10 numbers. init parameter is the random initialization method  \n",
    "    # we select kmeans++ method. max_iter parameter the maximum number of iterations there can be to \n",
    "    # find the final clusters when the K-meands algorithm is running. we enter the default value of 300\n",
    "    # the next parameter is n_init which is the number of times the K_means algorithm will be run with\n",
    "    # different initial centroid.\n",
    "    kmeans.fit(x)\n",
    "\n",
    "    # kmeans algorithm fits to the X dataset\n",
    "    wcss.append(kmeans.inertia_)"
   ]
  },
  {
   "cell_type": "markdown",
   "id": "d7767515",
   "metadata": {},
   "source": [
    "## Plot the elbow graph"
   ]
  },
  {
   "cell_type": "code",
   "execution_count": 7,
   "id": "5abdd244",
   "metadata": {
    "ExecuteTime": {
     "end_time": "2021-08-07T10:59:05.615056Z",
     "start_time": "2021-08-07T10:59:05.189581Z"
    }
   },
   "outputs": [
    {
     "data": {
      "image/png": "[encoded data removed]",
      "text/plain": [
       "<Figure size 720x360 with 1 Axes>"
      ]
     },
     "metadata": {
      "needs_background": "light"
     },
     "output_type": "display_data"
    }
   ],
   "source": [
    "# kmeans inertia_ attribute is:  Sum of squared distances of samples #to their closest cluster center.\n",
    "plt.figure(figsize=(10, 5))\n",
    "plt.plot(range(1, 11), wcss)\n",
    "plt.title('The Elbow Method Graph')\n",
    "plt.xlabel('Number of clusters')\n",
    "plt.ylabel('WCSS')\n",
    "plt.xticks(range(0,11))\n",
    "plt.show()"
   ]
  },
  {
   "cell_type": "markdown",
   "id": "2e3f1d71",
   "metadata": {},
   "source": [
    "## Applying k-means algorithm"
   ]
  },
  {
   "cell_type": "code",
   "execution_count": 8,
   "id": "65d8bac0",
   "metadata": {
    "ExecuteTime": {
     "end_time": "2021-08-07T10:59:05.661803Z",
     "start_time": "2021-08-07T10:59:05.618052Z"
    }
   },
   "outputs": [],
   "source": [
    "# According to the Elbow graph we deterrmine the clusters number as \n",
    "# Applying k-means algorithm to the X dataset.\n",
    "kmeans = KMeans(n_clusters=5, init ='k-means++', max_iter=300, n_init=10, random_state=0)\n",
    "\n",
    "# We are going to use the fit predict method that returns for each \n",
    "# observation which cluster it belongs to. The cluster to which \n",
    "# client belongs and it will return this cluster numbers into a #single vector that is  called y K-means\n",
    "y_kmeans = kmeans.fit_predict(x)"
   ]
  },
  {
   "cell_type": "code",
   "execution_count": 9,
   "id": "c405f107",
   "metadata": {
    "ExecuteTime": {
     "end_time": "2021-08-07T10:59:05.677039Z",
     "start_time": "2021-08-07T10:59:05.664039Z"
    }
   },
   "outputs": [
    {
     "data": {
      "text/plain": [
       "array(['Iris-setosa', 'Iris-versicolor', 'Iris-virginica'], dtype=object)"
      ]
     },
     "execution_count": 9,
     "metadata": {},
     "output_type": "execute_result"
    }
   ],
   "source": [
    "df['Species'].unique()"
   ]
  },
  {
   "cell_type": "markdown",
   "id": "fe91066a",
   "metadata": {
    "ExecuteTime": {
     "end_time": "2021-08-02T19:28:53.734254Z",
     "start_time": "2021-08-02T19:28:53.427075Z"
    },
    "scrolled": false
   },
   "source": [
    "## Visualizing the clusters"
   ]
  },
  {
   "cell_type": "code",
   "execution_count": 10,
   "id": "6af6823b",
   "metadata": {
    "ExecuteTime": {
     "end_time": "2021-08-07T10:59:05.930803Z",
     "start_time": "2021-08-07T10:59:05.679998Z"
    },
    "scrolled": false
   },
   "outputs": [
    {
     "data": {
      "image/png": "[encoded data removed]",
      "text/plain": [
       "<Figure size 720x504 with 1 Axes>"
      ]
     },
     "metadata": {
      "needs_background": "light"
     },
     "output_type": "display_data"
    }
   ],
   "source": [
    "plt.figure(figsize=(10, 7))\n",
    "plt.scatter(x[y_kmeans==0, 0], x[y_kmeans==0, 1], s=100, alpha=0.75, label ='Iris-setosa')\n",
    "plt.scatter(x[y_kmeans==1, 0], x[y_kmeans==1, 1], s=100, alpha=0.75, label ='Iris-versicolor')\n",
    "plt.scatter(x[y_kmeans==2, 0], x[y_kmeans==2, 1], s=100, alpha=0.75, label ='Iris-virginica')\n",
    "\n",
    "# Plot the centroid. This time we're going to use the cluster centres  \n",
    "# attribute that returns here the coordinates of the centroid.\n",
    "plt.scatter(kmeans.cluster_centers_[:, 0], kmeans.cluster_centers_[:, 1], \n",
    "            c='yellow', s=100, alpha=0.8, label = 'Centroids')\n",
    "plt.title('Clusters of Customers')\n",
    "plt.xlabel('Annual Income(k$)')\n",
    "plt.ylabel('Spending Score(1-100')\n",
    "plt.legend();"
   ]
  },
  {
   "cell_type": "code",
   "execution_count": null,
   "id": "5ea9cd29",
   "metadata": {},
   "outputs": [],
   "source": []
  }
 ],
 "metadata": {
  "kernelspec": {
   "display_name": "Python 3 (ipykernel)",
   "language": "python",
   "name": "python3"
  },
  "language_info": {
   "codemirror_mode": {
    "name": "ipython",
    "version": 3
   },
   "file_extension": ".py",
   "mimetype": "text/x-python",
   "name": "python",
   "nbconvert_exporter": "python",
   "pygments_lexer": "ipython3",
   "version": "3.9.5"
  },
  "toc": {
   "base_numbering": 1,
   "nav_menu": {},
   "number_sections": true,
   "sideBar": true,
   "skip_h1_title": true,
   "title_cell": "Table of Contents",
   "title_sidebar": "Contents",
   "toc_cell": false,
   "toc_position": {},
   "toc_section_display": true,
   "toc_window_display": false
  },
  "varInspector": {
   "cols": {
    "lenName": 16,
    "lenType": 16,
    "lenVar": 40
   },
   "kernels_config": {
    "python": {
     "delete_cmd_postfix": "",
     "delete_cmd_prefix": "del ",
     "library": "var_list.py",
     "varRefreshCmd": "print(var_dic_list())"
    },
    "r": {
     "delete_cmd_postfix": ") ",
     "delete_cmd_prefix": "rm(",
     "library": "var_list.r",
     "varRefreshCmd": "cat(var_dic_list()) "
    }
   },
   "types_to_exclude": [
    "module",
    "function",
    "builtin_function_or_method",
    "instance",
    "_Feature"
   ],
   "window_display": false
  }
 },
 "nbformat": 4,
 "nbformat_minor": 5
}
